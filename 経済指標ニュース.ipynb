{
 "cells": [
  {
   "cell_type": "code",
   "execution_count": 1,
   "id": "renewable-breach",
   "metadata": {},
   "outputs": [],
   "source": [
    "import newspaper\n",
    "import nltk"
   ]
  },
  {
   "cell_type": "code",
   "execution_count": 2,
   "id": "dying-princess",
   "metadata": {},
   "outputs": [
    {
     "name": "stderr",
     "output_type": "stream",
     "text": [
      "[nltk_data] Downloading package punkt to /home/snowpool/nltk_data...\n",
      "[nltk_data]   Package punkt is already up-to-date!\n"
     ]
    },
    {
     "data": {
      "text/plain": [
       "True"
      ]
     },
     "execution_count": 2,
     "metadata": {},
     "output_type": "execute_result"
    }
   ],
   "source": [
    "nltk.download(\"punkt\")"
   ]
  },
  {
   "cell_type": "code",
   "execution_count": 3,
   "id": "vital-scroll",
   "metadata": {},
   "outputs": [],
   "source": [
    "url = \"https://jp.reuters.com/news/business\""
   ]
  },
  {
   "cell_type": "code",
   "execution_count": 4,
   "id": "racial-picnic",
   "metadata": {},
   "outputs": [],
   "source": [
    "website = newspaper.build(url)"
   ]
  },
  {
   "cell_type": "code",
   "execution_count": 5,
   "id": "august-gather",
   "metadata": {},
   "outputs": [
    {
     "name": "stdout",
     "output_type": "stream",
     "text": [
      "記事 0 : マネーニュース（金融ニュース）｜日経株価・株式市場｜ロイター\n",
      "https://jp.reuters.com/investing/news\n",
      "主要通貨>>その他の各国の通貨は通貨換算機能をお使い下さい\n",
      "\n",
      "記事 1 : 特集 仮想通貨 ｜ ロイター\n",
      "https://jp.reuters.com/news/technology/bitcoin\n",
      "インド、仮想通貨の取引・保有制限を検討＝関係筋インド政府は投資家による暗号資産（仮想通貨）保有を阻止するための規制強化を検討しているが、民間のデジタルコインを禁止するという従来の計画を実行に移すことはなさそうだ。事情に詳しい関係筋２人が明らかにした。\n",
      "\n",
      "記事 2 : トップニュース｜注目ニュース｜ロイター\n",
      "https://jp.reuters.com/news/topNews\n",
      "\n",
      "\n",
      "記事 3 : ビジネスニュース ｜ ロイター\n",
      "https://jp.reuters.com/news/business\n",
      "\n",
      "\n",
      "記事 4 : テクノロジーニュース ｜ ロイター\n",
      "https://jp.reuters.com/news/technology\n",
      "\n",
      "\n",
      "記事 5 : 国際ニュース｜ワールドニュース｜ロイター\n",
      "https://jp.reuters.com/news/world\n",
      "\n",
      "\n",
      "記事 6 : 特別リポート｜経済、株価、ビジネス、政治ニュース、ワールドニュース｜ロイター特別リポート\n",
      "https://jp.reuters.com/news/special-report\n",
      "［チェルスキー（ロシア） ４日 ロイター］ - ロシアの北極海沿岸から南へ１３０キロ、ここは地球上で最も寒冷な場所の１つだ。しかし、このシベリアの大地にも地球温暖化の影響が及び、永久凍土の気配すら感じられなくなっていると、科学者のセルゲイ・ジモフ氏（６６）は言う。\n",
      "\n",
      "記事 7 : インタビュー｜経済、株価、ビジネス、政治ニュース、ワールドニュース｜ロイターインタビュー\n",
      "https://jp.reuters.com/news/interview\n",
      "\n",
      "\n",
      "記事 8 : 国内ニュース ｜ ロイター\n",
      "https://jp.reuters.com/news/domestic\n",
      "［東京 ９日 ロイター］ - 岸田文雄首相の所信表明演説に対する参院での各党代表質問が９日始まった。首相は参院本会議で、賃上げ推進のため「安倍政権時を上回る税額控除率を実現する」と述べた。立憲民主党の小西洋之議員への答弁。［東京 ９日 ロイター］ - １２月のロイター企業調査によると、２０２２年度の収益は、新型コロナウイルス禍に苦しんだ２１年度に比べて、増加するとの回答が５割となった。収益は設備投資や研究開発に振り向けたいとの意向が多く示された。ただ、世界各地で新たな変異株「オミクロン株」が広がりを見せる中、新型コロナの第６波や先行きが読みにくい円安・資源高の動向、半導体不足が深刻な影響を及ぼしたサプライチェーンの混乱などがリスク要因として意識されている。\n",
      "\n",
      "記事 9 : スポーツ\n",
      "https://jp.reuters.com/news/sports\n",
      "\n",
      "\n",
      "記事 10 : エンタメニュース（最新海外セレブ・ハリウッド情報）｜ロイター\n",
      "https://jp.reuters.com/news/entertainment\n",
      "\n",
      "\n"
     ]
    }
   ],
   "source": [
    "i = 0\n",
    "for article  in website.articles:\n",
    "    article.download()\n",
    "    article.parse()\n",
    "    article.nlp()\n",
    "    print(\"記事\",str(i),\":\",article.title)\n",
    "    print(article.url)\n",
    "    print(article.summary, end=\"\\n\\n\")\n",
    "    \n",
    "    if i > 9:\n",
    "        break\n",
    "    i = i+1"
   ]
  },
  {
   "cell_type": "code",
   "execution_count": 51,
   "id": "retired-spell",
   "metadata": {},
   "outputs": [
    {
     "name": "stdout",
     "output_type": "stream",
     "text": [
      "記事 0 : マネーニュース（金融ニュース）｜日経株価・株式市場｜ロイター\n",
      "https://jp.reuters.com/investing/news\n",
      "主要通貨>>その他の各国の通貨は通貨換算機能をお使い下さい\n",
      "\n",
      "記事 1 : 特集 仮想通貨 ｜ ロイター\n",
      "https://jp.reuters.com/news/technology/bitcoin\n",
      "インド、仮想通貨の取引・保有制限を検討＝関係筋インド政府は投資家による暗号資産（仮想通貨）保有を阻止するための規制強化を検討しているが、民間のデジタルコインを禁止するという従来の計画を実行に移すことはなさそうだ。事情に詳しい関係筋２人が明らかにした。\n",
      "\n",
      "記事 2 : トップニュース｜注目ニュース｜ロイター\n",
      "https://jp.reuters.com/news/topNews\n",
      "\n",
      "\n",
      "記事 3 : ビジネスニュース ｜ ロイター\n",
      "https://jp.reuters.com/news/business\n",
      "\n",
      "\n",
      "記事 4 : テクノロジーニュース ｜ ロイター\n",
      "https://jp.reuters.com/news/technology\n",
      "\n",
      "\n",
      "記事 5 : 国際ニュース｜ワールドニュース｜ロイター\n",
      "https://jp.reuters.com/news/world\n",
      "\n",
      "\n",
      "記事 6 : 特別リポート｜経済、株価、ビジネス、政治ニュース、ワールドニュース｜ロイター特別リポート\n",
      "https://jp.reuters.com/news/special-report\n",
      "［チェルスキー（ロシア） ４日 ロイター］ - ロシアの北極海沿岸から南へ１３０キロ、ここは地球上で最も寒冷な場所の１つだ。しかし、このシベリアの大地にも地球温暖化の影響が及び、永久凍土の気配すら感じられなくなっていると、科学者のセルゲイ・ジモフ氏（６６）は言う。\n",
      "\n",
      "記事 7 : インタビュー｜経済、株価、ビジネス、政治ニュース、ワールドニュース｜ロイターインタビュー\n",
      "https://jp.reuters.com/news/interview\n",
      "\n",
      "\n",
      "記事 8 : 国内ニュース ｜ ロイター\n",
      "https://jp.reuters.com/news/domestic\n",
      "\n",
      "\n",
      "記事 9 : \n",
      "\t\t\t\t\t\n",
      "https://jp.reuters.com/news/sports\n",
      "\n",
      "\n",
      "記事 10 : エンタメニュース（最新海外セレブ・ハリウッド情報）｜ロイター\n",
      "https://jp.reuters.com/news/entertainment\n",
      "\n",
      "\n"
     ]
    }
   ],
   "source": [
    "url = \"https://jp.reuters.com/news/business\"\n",
    "website = newspaper.build(url, memoize_articles=False)\n",
    "i = 0\n",
    "for article  in website.articles:\n",
    "    article.download()\n",
    "    article.parse()\n",
    "    article.nlp()\n",
    "    print(\"記事\",str(i),\":\",article.title)\n",
    "    print(article.url)\n",
    "    print(article.summary, end=\"\\n\\n\")\n",
    "    \n",
    "    if i > 9:\n",
    "        break\n",
    "    i = i+1"
   ]
  },
  {
   "cell_type": "code",
   "execution_count": 6,
   "id": "martial-murder",
   "metadata": {},
   "outputs": [
    {
     "name": "stdout",
     "output_type": "stream",
     "text": [
      "記事 0 : マネーニュース（金融ニュース）｜日経株価・株式市場｜ロイター\n",
      "https://jp.reuters.com/investing/news\n",
      "主要通貨>>その他の各国の通貨は通貨換算機能をお使い下さい\n",
      "\n",
      "記事 1 : 特集 仮想通貨 ｜ ロイター\n",
      "https://jp.reuters.com/news/technology/bitcoin\n",
      "インド、仮想通貨の取引・保有制限を検討＝関係筋インド政府は投資家による暗号資産（仮想通貨）保有を阻止するための規制強化を検討しているが、民間のデジタルコインを禁止するという従来の計画を実行に移すことはなさそうだ。事情に詳しい関係筋２人が明らかにした。\n",
      "\n",
      "記事 2 : トップニュース｜注目ニュース｜ロイター\n",
      "https://jp.reuters.com/news/topNews\n",
      "\n",
      "\n",
      "記事 3 : ビジネスニュース ｜ ロイター\n",
      "https://jp.reuters.com/news/business\n",
      "\n",
      "\n",
      "記事 4 : テクノロジーニュース ｜ ロイター\n",
      "https://jp.reuters.com/news/technology\n",
      "\n",
      "\n",
      "記事 5 : 国際ニュース｜ワールドニュース｜ロイター\n",
      "https://jp.reuters.com/news/world\n",
      "\n",
      "\n",
      "記事 6 : 特別リポート｜経済、株価、ビジネス、政治ニュース、ワールドニュース｜ロイター特別リポート\n",
      "https://jp.reuters.com/news/special-report\n",
      "［チェルスキー（ロシア） ４日 ロイター］ - ロシアの北極海沿岸から南へ１３０キロ、ここは地球上で最も寒冷な場所の１つだ。しかし、このシベリアの大地にも地球温暖化の影響が及び、永久凍土の気配すら感じられなくなっていると、科学者のセルゲイ・ジモフ氏（６６）は言う。\n",
      "\n",
      "記事 7 : インタビュー｜経済、株価、ビジネス、政治ニュース、ワールドニュース｜ロイターインタビュー\n",
      "https://jp.reuters.com/news/interview\n",
      "\n",
      "\n",
      "記事 8 : 国内ニュース ｜ ロイター\n",
      "https://jp.reuters.com/news/domestic\n",
      "［東京 ９日 ロイター］ - 岸田文雄首相の所信表明演説に対する参院での各党代表質問が９日始まった。首相は参院本会議で、賃上げ推進のため「安倍政権時を上回る税額控除率を実現する」と述べた。立憲民主党の小西洋之議員への答弁。［東京 ９日 ロイター］ - １２月のロイター企業調査によると、２０２２年度の収益は、新型コロナウイルス禍に苦しんだ２１年度に比べて、増加するとの回答が５割となった。収益は設備投資や研究開発に振り向けたいとの意向が多く示された。ただ、世界各地で新たな変異株「オミクロン株」が広がりを見せる中、新型コロナの第６波や先行きが読みにくい円安・資源高の動向、半導体不足が深刻な影響を及ぼしたサプライチェーンの混乱などがリスク要因として意識されている。\n",
      "\n",
      "記事 9 : \n",
      "\t\t\t\t\t\n",
      "https://jp.reuters.com/news/sports\n",
      "\n",
      "\n",
      "記事 10 : エンタメニュース（最新海外セレブ・ハリウッド情報）｜ロイター\n",
      "https://jp.reuters.com/news/entertainment\n",
      "\n",
      "\n"
     ]
    }
   ],
   "source": [
    "url = \"https://jp.reuters.com/news/archive/economicNews?view=page&page=2&pageSize=10\"\n",
    "website = newspaper.build(url, memoize_articles=False)\n",
    "i = 0\n",
    "for article  in website.articles:\n",
    "    article.download()\n",
    "    article.parse()\n",
    "    article.nlp()\n",
    "    print(\"記事\",str(i),\":\",article.title)\n",
    "    print(article.url)\n",
    "    print(article.summary, end=\"\\n\\n\")\n",
    "    \n",
    "    if i > 9:\n",
    "        break\n",
    "    i = i+1"
   ]
  },
  {
   "cell_type": "code",
   "execution_count": null,
   "id": "modular-value",
   "metadata": {},
   "outputs": [],
   "source": []
  }
 ],
 "metadata": {
  "kernelspec": {
   "display_name": "Python 3",
   "language": "python",
   "name": "python3"
  },
  "language_info": {
   "codemirror_mode": {
    "name": "ipython",
    "version": 3
   },
   "file_extension": ".py",
   "mimetype": "text/x-python",
   "name": "python",
   "nbconvert_exporter": "python",
   "pygments_lexer": "ipython3",
   "version": "3.8.8"
  }
 },
 "nbformat": 4,
 "nbformat_minor": 5
}
