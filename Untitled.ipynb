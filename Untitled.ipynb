{
 "cells": [
  {
   "cell_type": "code",
   "execution_count": 2,
   "id": "5c04c5e0",
   "metadata": {},
   "outputs": [
    {
     "name": "stdout",
     "output_type": "stream",
     "text": [
      "Collecting streamlit\n",
      "  Using cached streamlit-1.5.0-py2.py3-none-any.whl (9.7 MB)\n",
      "Collecting protobuf!=3.11,>=3.6.0\n",
      "  Using cached protobuf-3.19.4-py2.py3-none-any.whl (162 kB)\n",
      "Collecting astor\n",
      "  Using cached astor-0.8.1-py2.py3-none-any.whl (27 kB)\n",
      "Collecting cachetools>=4.0\n",
      "  Using cached cachetools-5.0.0-py3-none-any.whl (9.1 kB)\n",
      "Collecting gitpython!=3.1.19\n",
      "  Using cached GitPython-3.1.26-py3-none-any.whl (180 kB)\n",
      "Requirement already satisfied: pympler>=0.9 in /Users/snowpool/.pyenv/versions/3.8.12/lib/python3.8/site-packages (from streamlit) (1.0.1)\n",
      "Requirement already satisfied: validators in /Users/snowpool/.pyenv/versions/3.8.12/lib/python3.8/site-packages (from streamlit) (0.18.2)\n",
      "Collecting pillow>=6.2.0\n",
      "  Using cached Pillow-9.0.0-cp38-cp38-macosx_11_0_arm64.whl (2.7 MB)\n",
      "Requirement already satisfied: python-dateutil in /Users/snowpool/.pyenv/versions/3.8.12/lib/python3.8/site-packages (from streamlit) (2.8.2)\n",
      "Requirement already satisfied: pydeck>=0.1.dev5 in /Users/snowpool/.pyenv/versions/3.8.12/lib/python3.8/site-packages (from streamlit) (0.7.1)\n",
      "Collecting blinker\n",
      "  Using cached blinker-1.4.tar.gz (111 kB)\n",
      "  Preparing metadata (setup.py) ... \u001b[?25ldone\n",
      "\u001b[?25hCollecting base58\n",
      "  Using cached base58-2.1.1-py3-none-any.whl (5.6 kB)\n",
      "Requirement already satisfied: tzlocal in /Users/snowpool/.pyenv/versions/3.8.12/lib/python3.8/site-packages (from streamlit) (4.1)\n",
      "Requirement already satisfied: packaging in /Users/snowpool/.pyenv/versions/3.8.12/lib/python3.8/site-packages (from streamlit) (21.3)\n",
      "Requirement already satisfied: tornado>=5.0 in /Users/snowpool/.pyenv/versions/3.8.12/lib/python3.8/site-packages (from streamlit) (6.1)\n",
      "Collecting pyarrow\n",
      "  Using cached pyarrow-6.0.1-cp38-cp38-macosx_11_0_arm64.whl (13.7 MB)\n",
      "Requirement already satisfied: click>=7.0 in /Users/snowpool/.pyenv/versions/3.8.12/lib/python3.8/site-packages (from streamlit) (8.0.3)\n",
      "Requirement already satisfied: numpy in /Users/snowpool/.pyenv/versions/3.8.12/lib/python3.8/site-packages (from streamlit) (1.22.1)\n",
      "Requirement already satisfied: pandas>=0.21.0 in /Users/snowpool/.pyenv/versions/3.8.12/lib/python3.8/site-packages (from streamlit) (1.4.0)\n",
      "Collecting altair>=3.2.0\n",
      "  Using cached altair-4.2.0-py3-none-any.whl (812 kB)\n",
      "Requirement already satisfied: attrs in /Users/snowpool/.pyenv/versions/3.8.12/lib/python3.8/site-packages (from streamlit) (21.4.0)\n",
      "Requirement already satisfied: toml in /Users/snowpool/.pyenv/versions/3.8.12/lib/python3.8/site-packages (from streamlit) (0.10.2)\n",
      "Requirement already satisfied: requests in /Users/snowpool/.pyenv/versions/3.8.12/lib/python3.8/site-packages (from streamlit) (2.27.1)\n",
      "Requirement already satisfied: toolz in /Users/snowpool/.pyenv/versions/3.8.12/lib/python3.8/site-packages (from altair>=3.2.0->streamlit) (0.11.2)\n",
      "Requirement already satisfied: jinja2 in /Users/snowpool/.pyenv/versions/3.8.12/lib/python3.8/site-packages (from altair>=3.2.0->streamlit) (3.0.3)\n",
      "Requirement already satisfied: entrypoints in /Users/snowpool/.pyenv/versions/3.8.12/lib/python3.8/site-packages (from altair>=3.2.0->streamlit) (0.3)\n",
      "Requirement already satisfied: jsonschema>=3.0 in /Users/snowpool/.pyenv/versions/3.8.12/lib/python3.8/site-packages (from altair>=3.2.0->streamlit) (4.4.0)\n",
      "Requirement already satisfied: gitdb<5,>=4.0.1 in /Users/snowpool/.pyenv/versions/3.8.12/lib/python3.8/site-packages (from gitpython!=3.1.19->streamlit) (4.0.9)\n",
      "Requirement already satisfied: pytz>=2020.1 in /Users/snowpool/.pyenv/versions/3.8.12/lib/python3.8/site-packages (from pandas>=0.21.0->streamlit) (2021.3)\n",
      "Requirement already satisfied: ipywidgets>=7.0.0 in /Users/snowpool/.pyenv/versions/3.8.12/lib/python3.8/site-packages (from pydeck>=0.1.dev5->streamlit) (7.6.5)\n",
      "Requirement already satisfied: ipykernel>=5.1.2 in /Users/snowpool/.pyenv/versions/3.8.12/lib/python3.8/site-packages (from pydeck>=0.1.dev5->streamlit) (6.7.0)\n",
      "Requirement already satisfied: traitlets>=4.3.2 in /Users/snowpool/.pyenv/versions/3.8.12/lib/python3.8/site-packages (from pydeck>=0.1.dev5->streamlit) (5.1.1)\n",
      "Requirement already satisfied: six>=1.5 in /Users/snowpool/.pyenv/versions/3.8.12/lib/python3.8/site-packages (from python-dateutil->streamlit) (1.16.0)\n",
      "Requirement already satisfied: pyparsing!=3.0.5,>=2.0.2 in /Users/snowpool/.pyenv/versions/3.8.12/lib/python3.8/site-packages (from packaging->streamlit) (3.0.7)\n",
      "Requirement already satisfied: idna<4,>=2.5 in /Users/snowpool/.pyenv/versions/3.8.12/lib/python3.8/site-packages (from requests->streamlit) (3.3)\n",
      "Requirement already satisfied: urllib3<1.27,>=1.21.1 in /Users/snowpool/.pyenv/versions/3.8.12/lib/python3.8/site-packages (from requests->streamlit) (1.26.8)\n",
      "Requirement already satisfied: certifi>=2017.4.17 in /Users/snowpool/.pyenv/versions/3.8.12/lib/python3.8/site-packages (from requests->streamlit) (2021.10.8)\n",
      "Requirement already satisfied: charset-normalizer~=2.0.0 in /Users/snowpool/.pyenv/versions/3.8.12/lib/python3.8/site-packages (from requests->streamlit) (2.0.10)\n",
      "Requirement already satisfied: pytz-deprecation-shim in /Users/snowpool/.pyenv/versions/3.8.12/lib/python3.8/site-packages (from tzlocal->streamlit) (0.1.0.post0)\n",
      "Requirement already satisfied: backports.zoneinfo in /Users/snowpool/.pyenv/versions/3.8.12/lib/python3.8/site-packages (from tzlocal->streamlit) (0.2.1)\n",
      "Requirement already satisfied: decorator>=3.4.0 in /Users/snowpool/.pyenv/versions/3.8.12/lib/python3.8/site-packages (from validators->streamlit) (5.1.1)\n",
      "Requirement already satisfied: smmap<6,>=3.0.1 in /Users/snowpool/.pyenv/versions/3.8.12/lib/python3.8/site-packages (from gitdb<5,>=4.0.1->gitpython!=3.1.19->streamlit) (5.0.0)\n",
      "Requirement already satisfied: debugpy<2.0,>=1.0.0 in /Users/snowpool/.pyenv/versions/3.8.12/lib/python3.8/site-packages (from ipykernel>=5.1.2->pydeck>=0.1.dev5->streamlit) (1.5.1)\n",
      "Requirement already satisfied: nest-asyncio in /Users/snowpool/.pyenv/versions/3.8.12/lib/python3.8/site-packages (from ipykernel>=5.1.2->pydeck>=0.1.dev5->streamlit) (1.5.4)\n",
      "Requirement already satisfied: ipython>=7.23.1 in /Users/snowpool/.pyenv/versions/3.8.12/lib/python3.8/site-packages (from ipykernel>=5.1.2->pydeck>=0.1.dev5->streamlit) (8.0.1)\n",
      "Requirement already satisfied: jupyter-client<8.0 in /Users/snowpool/.pyenv/versions/3.8.12/lib/python3.8/site-packages (from ipykernel>=5.1.2->pydeck>=0.1.dev5->streamlit) (7.1.2)\n",
      "Requirement already satisfied: appnope in /Users/snowpool/.pyenv/versions/3.8.12/lib/python3.8/site-packages (from ipykernel>=5.1.2->pydeck>=0.1.dev5->streamlit) (0.1.2)\n",
      "Requirement already satisfied: matplotlib-inline<0.2.0,>=0.1.0 in /Users/snowpool/.pyenv/versions/3.8.12/lib/python3.8/site-packages (from ipykernel>=5.1.2->pydeck>=0.1.dev5->streamlit) (0.1.3)\n",
      "Requirement already satisfied: ipython-genutils~=0.2.0 in /Users/snowpool/.pyenv/versions/3.8.12/lib/python3.8/site-packages (from ipywidgets>=7.0.0->pydeck>=0.1.dev5->streamlit) (0.2.0)\n",
      "Requirement already satisfied: jupyterlab-widgets>=1.0.0 in /Users/snowpool/.pyenv/versions/3.8.12/lib/python3.8/site-packages (from ipywidgets>=7.0.0->pydeck>=0.1.dev5->streamlit) (1.0.2)\n",
      "Requirement already satisfied: nbformat>=4.2.0 in /Users/snowpool/.pyenv/versions/3.8.12/lib/python3.8/site-packages (from ipywidgets>=7.0.0->pydeck>=0.1.dev5->streamlit) (5.1.3)\n",
      "Requirement already satisfied: widgetsnbextension~=3.5.0 in /Users/snowpool/.pyenv/versions/3.8.12/lib/python3.8/site-packages (from ipywidgets>=7.0.0->pydeck>=0.1.dev5->streamlit) (3.5.2)\n",
      "Requirement already satisfied: MarkupSafe>=2.0 in /Users/snowpool/.pyenv/versions/3.8.12/lib/python3.8/site-packages (from jinja2->altair>=3.2.0->streamlit) (2.0.1)\n",
      "Requirement already satisfied: importlib-resources>=1.4.0 in /Users/snowpool/.pyenv/versions/3.8.12/lib/python3.8/site-packages (from jsonschema>=3.0->altair>=3.2.0->streamlit) (5.4.0)\n",
      "Requirement already satisfied: pyrsistent!=0.17.0,!=0.17.1,!=0.17.2,>=0.14.0 in /Users/snowpool/.pyenv/versions/3.8.12/lib/python3.8/site-packages (from jsonschema>=3.0->altair>=3.2.0->streamlit) (0.18.1)\n",
      "Requirement already satisfied: tzdata in /Users/snowpool/.pyenv/versions/3.8.12/lib/python3.8/site-packages (from pytz-deprecation-shim->tzlocal->streamlit) (2021.5)\n"
     ]
    },
    {
     "name": "stdout",
     "output_type": "stream",
     "text": [
      "Requirement already satisfied: zipp>=3.1.0 in /Users/snowpool/.pyenv/versions/3.8.12/lib/python3.8/site-packages (from importlib-resources>=1.4.0->jsonschema>=3.0->altair>=3.2.0->streamlit) (3.7.0)\n",
      "Requirement already satisfied: prompt-toolkit!=3.0.0,!=3.0.1,<3.1.0,>=2.0.0 in /Users/snowpool/.pyenv/versions/3.8.12/lib/python3.8/site-packages (from ipython>=7.23.1->ipykernel>=5.1.2->pydeck>=0.1.dev5->streamlit) (3.0.26)\n",
      "Requirement already satisfied: black in /Users/snowpool/.pyenv/versions/3.8.12/lib/python3.8/site-packages (from ipython>=7.23.1->ipykernel>=5.1.2->pydeck>=0.1.dev5->streamlit) (21.12b0)\n",
      "Requirement already satisfied: pickleshare in /Users/snowpool/.pyenv/versions/3.8.12/lib/python3.8/site-packages (from ipython>=7.23.1->ipykernel>=5.1.2->pydeck>=0.1.dev5->streamlit) (0.7.5)\n",
      "Requirement already satisfied: backcall in /Users/snowpool/.pyenv/versions/3.8.12/lib/python3.8/site-packages (from ipython>=7.23.1->ipykernel>=5.1.2->pydeck>=0.1.dev5->streamlit) (0.2.0)\n",
      "Requirement already satisfied: jedi>=0.16 in /Users/snowpool/.pyenv/versions/3.8.12/lib/python3.8/site-packages (from ipython>=7.23.1->ipykernel>=5.1.2->pydeck>=0.1.dev5->streamlit) (0.18.1)\n",
      "Requirement already satisfied: pygments in /Users/snowpool/.pyenv/versions/3.8.12/lib/python3.8/site-packages (from ipython>=7.23.1->ipykernel>=5.1.2->pydeck>=0.1.dev5->streamlit) (2.11.2)\n",
      "Requirement already satisfied: stack-data in /Users/snowpool/.pyenv/versions/3.8.12/lib/python3.8/site-packages (from ipython>=7.23.1->ipykernel>=5.1.2->pydeck>=0.1.dev5->streamlit) (0.1.4)\n",
      "Requirement already satisfied: setuptools>=18.5 in /Users/snowpool/.pyenv/versions/3.8.12/lib/python3.8/site-packages (from ipython>=7.23.1->ipykernel>=5.1.2->pydeck>=0.1.dev5->streamlit) (56.0.0)\n",
      "Requirement already satisfied: pexpect>4.3 in /Users/snowpool/.pyenv/versions/3.8.12/lib/python3.8/site-packages (from ipython>=7.23.1->ipykernel>=5.1.2->pydeck>=0.1.dev5->streamlit) (4.8.0)\n",
      "Requirement already satisfied: jupyter-core>=4.6.0 in /Users/snowpool/.pyenv/versions/3.8.12/lib/python3.8/site-packages (from jupyter-client<8.0->ipykernel>=5.1.2->pydeck>=0.1.dev5->streamlit) (4.9.1)\n",
      "Requirement already satisfied: pyzmq>=13 in /Users/snowpool/.pyenv/versions/3.8.12/lib/python3.8/site-packages (from jupyter-client<8.0->ipykernel>=5.1.2->pydeck>=0.1.dev5->streamlit) (22.3.0)\n",
      "Requirement already satisfied: notebook>=4.4.1 in /Users/snowpool/.pyenv/versions/3.8.12/lib/python3.8/site-packages (from widgetsnbextension~=3.5.0->ipywidgets>=7.0.0->pydeck>=0.1.dev5->streamlit) (6.4.8)\n",
      "Requirement already satisfied: parso<0.9.0,>=0.8.0 in /Users/snowpool/.pyenv/versions/3.8.12/lib/python3.8/site-packages (from jedi>=0.16->ipython>=7.23.1->ipykernel>=5.1.2->pydeck>=0.1.dev5->streamlit) (0.8.3)\n",
      "Requirement already satisfied: prometheus-client in /Users/snowpool/.pyenv/versions/3.8.12/lib/python3.8/site-packages (from notebook>=4.4.1->widgetsnbextension~=3.5.0->ipywidgets>=7.0.0->pydeck>=0.1.dev5->streamlit) (0.13.1)\n",
      "Requirement already satisfied: Send2Trash>=1.8.0 in /Users/snowpool/.pyenv/versions/3.8.12/lib/python3.8/site-packages (from notebook>=4.4.1->widgetsnbextension~=3.5.0->ipywidgets>=7.0.0->pydeck>=0.1.dev5->streamlit) (1.8.0)\n",
      "Requirement already satisfied: terminado>=0.8.3 in /Users/snowpool/.pyenv/versions/3.8.12/lib/python3.8/site-packages (from notebook>=4.4.1->widgetsnbextension~=3.5.0->ipywidgets>=7.0.0->pydeck>=0.1.dev5->streamlit) (0.13.1)\n",
      "Requirement already satisfied: argon2-cffi in /Users/snowpool/.pyenv/versions/3.8.12/lib/python3.8/site-packages (from notebook>=4.4.1->widgetsnbextension~=3.5.0->ipywidgets>=7.0.0->pydeck>=0.1.dev5->streamlit) (21.3.0)\n",
      "Requirement already satisfied: nbconvert in /Users/snowpool/.pyenv/versions/3.8.12/lib/python3.8/site-packages (from notebook>=4.4.1->widgetsnbextension~=3.5.0->ipywidgets>=7.0.0->pydeck>=0.1.dev5->streamlit) (6.4.1)\n",
      "Requirement already satisfied: ptyprocess>=0.5 in /Users/snowpool/.pyenv/versions/3.8.12/lib/python3.8/site-packages (from pexpect>4.3->ipython>=7.23.1->ipykernel>=5.1.2->pydeck>=0.1.dev5->streamlit) (0.7.0)\n",
      "Requirement already satisfied: wcwidth in /Users/snowpool/.pyenv/versions/3.8.12/lib/python3.8/site-packages (from prompt-toolkit!=3.0.0,!=3.0.1,<3.1.0,>=2.0.0->ipython>=7.23.1->ipykernel>=5.1.2->pydeck>=0.1.dev5->streamlit) (0.2.5)\n",
      "Requirement already satisfied: typing-extensions>=3.10.0.0 in /Users/snowpool/.pyenv/versions/3.8.12/lib/python3.8/site-packages (from black->ipython>=7.23.1->ipykernel>=5.1.2->pydeck>=0.1.dev5->streamlit) (4.0.1)\n",
      "Requirement already satisfied: pathspec<1,>=0.9.0 in /Users/snowpool/.pyenv/versions/3.8.12/lib/python3.8/site-packages (from black->ipython>=7.23.1->ipykernel>=5.1.2->pydeck>=0.1.dev5->streamlit) (0.9.0)\n",
      "Requirement already satisfied: tomli<2.0.0,>=0.2.6 in /Users/snowpool/.pyenv/versions/3.8.12/lib/python3.8/site-packages (from black->ipython>=7.23.1->ipykernel>=5.1.2->pydeck>=0.1.dev5->streamlit) (1.2.3)\n",
      "Requirement already satisfied: mypy-extensions>=0.4.3 in /Users/snowpool/.pyenv/versions/3.8.12/lib/python3.8/site-packages (from black->ipython>=7.23.1->ipykernel>=5.1.2->pydeck>=0.1.dev5->streamlit) (0.4.3)\n",
      "Requirement already satisfied: platformdirs>=2 in /Users/snowpool/.pyenv/versions/3.8.12/lib/python3.8/site-packages (from black->ipython>=7.23.1->ipykernel>=5.1.2->pydeck>=0.1.dev5->streamlit) (2.4.1)\n",
      "Requirement already satisfied: asttokens in /Users/snowpool/.pyenv/versions/3.8.12/lib/python3.8/site-packages (from stack-data->ipython>=7.23.1->ipykernel>=5.1.2->pydeck>=0.1.dev5->streamlit) (2.0.5)\n",
      "Requirement already satisfied: pure-eval in /Users/snowpool/.pyenv/versions/3.8.12/lib/python3.8/site-packages (from stack-data->ipython>=7.23.1->ipykernel>=5.1.2->pydeck>=0.1.dev5->streamlit) (0.2.2)\n",
      "Requirement already satisfied: executing in /Users/snowpool/.pyenv/versions/3.8.12/lib/python3.8/site-packages (from stack-data->ipython>=7.23.1->ipykernel>=5.1.2->pydeck>=0.1.dev5->streamlit) (0.8.2)\n",
      "Requirement already satisfied: argon2-cffi-bindings in /Users/snowpool/.pyenv/versions/3.8.12/lib/python3.8/site-packages (from argon2-cffi->notebook>=4.4.1->widgetsnbextension~=3.5.0->ipywidgets>=7.0.0->pydeck>=0.1.dev5->streamlit) (21.2.0)\n",
      "Requirement already satisfied: defusedxml in /Users/snowpool/.pyenv/versions/3.8.12/lib/python3.8/site-packages (from nbconvert->notebook>=4.4.1->widgetsnbextension~=3.5.0->ipywidgets>=7.0.0->pydeck>=0.1.dev5->streamlit) (0.7.1)\n",
      "Requirement already satisfied: jupyterlab-pygments in /Users/snowpool/.pyenv/versions/3.8.12/lib/python3.8/site-packages (from nbconvert->notebook>=4.4.1->widgetsnbextension~=3.5.0->ipywidgets>=7.0.0->pydeck>=0.1.dev5->streamlit) (0.1.2)\n",
      "Requirement already satisfied: mistune<2,>=0.8.1 in /Users/snowpool/.pyenv/versions/3.8.12/lib/python3.8/site-packages (from nbconvert->notebook>=4.4.1->widgetsnbextension~=3.5.0->ipywidgets>=7.0.0->pydeck>=0.1.dev5->streamlit) (0.8.4)\n",
      "Requirement already satisfied: nbclient<0.6.0,>=0.5.0 in /Users/snowpool/.pyenv/versions/3.8.12/lib/python3.8/site-packages (from nbconvert->notebook>=4.4.1->widgetsnbextension~=3.5.0->ipywidgets>=7.0.0->pydeck>=0.1.dev5->streamlit) (0.5.10)\n",
      "Requirement already satisfied: bleach in /Users/snowpool/.pyenv/versions/3.8.12/lib/python3.8/site-packages (from nbconvert->notebook>=4.4.1->widgetsnbextension~=3.5.0->ipywidgets>=7.0.0->pydeck>=0.1.dev5->streamlit) (4.1.0)\n",
      "Requirement already satisfied: pandocfilters>=1.4.1 in /Users/snowpool/.pyenv/versions/3.8.12/lib/python3.8/site-packages (from nbconvert->notebook>=4.4.1->widgetsnbextension~=3.5.0->ipywidgets>=7.0.0->pydeck>=0.1.dev5->streamlit) (1.5.0)\n",
      "Requirement already satisfied: testpath in /Users/snowpool/.pyenv/versions/3.8.12/lib/python3.8/site-packages (from nbconvert->notebook>=4.4.1->widgetsnbextension~=3.5.0->ipywidgets>=7.0.0->pydeck>=0.1.dev5->streamlit) (0.5.0)\n",
      "Requirement already satisfied: cffi>=1.0.1 in /Users/snowpool/.pyenv/versions/3.8.12/lib/python3.8/site-packages (from argon2-cffi-bindings->argon2-cffi->notebook>=4.4.1->widgetsnbextension~=3.5.0->ipywidgets>=7.0.0->pydeck>=0.1.dev5->streamlit) (1.15.0)\n",
      "Requirement already satisfied: webencodings in /Users/snowpool/.pyenv/versions/3.8.12/lib/python3.8/site-packages (from bleach->nbconvert->notebook>=4.4.1->widgetsnbextension~=3.5.0->ipywidgets>=7.0.0->pydeck>=0.1.dev5->streamlit) (0.5.1)\n"
     ]
    },
    {
     "name": "stdout",
     "output_type": "stream",
     "text": [
      "Requirement already satisfied: pycparser in /Users/snowpool/.pyenv/versions/3.8.12/lib/python3.8/site-packages (from cffi>=1.0.1->argon2-cffi-bindings->argon2-cffi->notebook>=4.4.1->widgetsnbextension~=3.5.0->ipywidgets>=7.0.0->pydeck>=0.1.dev5->streamlit) (2.21)\n",
      "Using legacy 'setup.py install' for blinker, since package 'wheel' is not installed.\n",
      "Installing collected packages: pyarrow, protobuf, pillow, gitpython, cachetools, blinker, base58, astor, altair, streamlit\n",
      "    Running setup.py install for blinker ... \u001b[?25ldone\n",
      "\u001b[?25hSuccessfully installed altair-4.2.0 astor-0.8.1 base58-2.1.1 blinker-1.4 cachetools-5.0.0 gitpython-3.1.26 pillow-9.0.0 protobuf-3.19.4 pyarrow-6.0.1 streamlit-1.5.0\n"
     ]
    }
   ],
   "source": [
    "!pip3 install streamlit"
   ]
  },
  {
   "cell_type": "code",
   "execution_count": 3,
   "id": "89be4228",
   "metadata": {},
   "outputs": [
    {
     "name": "stdout",
     "output_type": "stream",
     "text": [
      "Collecting investpy\n",
      "  Downloading investpy-1.0.8.tar.gz (4.4 MB)\n",
      "     |████████████████████████████████| 4.4 MB 2.7 MB/s            \n",
      "\u001b[?25h  Preparing metadata (setup.py) ... \u001b[?25ldone\n",
      "\u001b[?25hCollecting Unidecode>=1.1.1\n",
      "  Downloading Unidecode-1.3.2-py3-none-any.whl (235 kB)\n",
      "     |████████████████████████████████| 235 kB 15.7 MB/s            \n",
      "\u001b[?25hRequirement already satisfied: setuptools>=41.2.0 in /Users/snowpool/.pyenv/versions/3.8.12/lib/python3.8/site-packages (from investpy) (56.0.0)\n",
      "Requirement already satisfied: numpy>=1.17.2 in /Users/snowpool/.pyenv/versions/3.8.12/lib/python3.8/site-packages (from investpy) (1.22.1)\n",
      "Requirement already satisfied: pandas>=0.25.1 in /Users/snowpool/.pyenv/versions/3.8.12/lib/python3.8/site-packages (from investpy) (1.4.0)\n",
      "Collecting lxml>=4.4.1\n",
      "  Downloading lxml-4.7.1.tar.gz (3.2 MB)\n",
      "     |████████████████████████████████| 3.2 MB 16.0 MB/s            \n",
      "\u001b[?25h  Preparing metadata (setup.py) ... \u001b[?25ldone\n",
      "\u001b[?25hRequirement already satisfied: requests>=2.22.0 in /Users/snowpool/.pyenv/versions/3.8.12/lib/python3.8/site-packages (from investpy) (2.27.1)\n",
      "Requirement already satisfied: pytz>=2019.3 in /Users/snowpool/.pyenv/versions/3.8.12/lib/python3.8/site-packages (from investpy) (2021.3)\n",
      "Requirement already satisfied: python-dateutil>=2.8.1 in /Users/snowpool/.pyenv/versions/3.8.12/lib/python3.8/site-packages (from pandas>=0.25.1->investpy) (2.8.2)\n",
      "Requirement already satisfied: charset-normalizer~=2.0.0 in /Users/snowpool/.pyenv/versions/3.8.12/lib/python3.8/site-packages (from requests>=2.22.0->investpy) (2.0.10)\n",
      "Requirement already satisfied: idna<4,>=2.5 in /Users/snowpool/.pyenv/versions/3.8.12/lib/python3.8/site-packages (from requests>=2.22.0->investpy) (3.3)\n",
      "Requirement already satisfied: urllib3<1.27,>=1.21.1 in /Users/snowpool/.pyenv/versions/3.8.12/lib/python3.8/site-packages (from requests>=2.22.0->investpy) (1.26.8)\n",
      "Requirement already satisfied: certifi>=2017.4.17 in /Users/snowpool/.pyenv/versions/3.8.12/lib/python3.8/site-packages (from requests>=2.22.0->investpy) (2021.10.8)\n",
      "Requirement already satisfied: six>=1.5 in /Users/snowpool/.pyenv/versions/3.8.12/lib/python3.8/site-packages (from python-dateutil>=2.8.1->pandas>=0.25.1->investpy) (1.16.0)\n",
      "Using legacy 'setup.py install' for investpy, since package 'wheel' is not installed.\n",
      "Using legacy 'setup.py install' for lxml, since package 'wheel' is not installed.\n",
      "Installing collected packages: Unidecode, lxml, investpy\n",
      "    Running setup.py install for lxml ... \u001b[?25ldone\n",
      "\u001b[?25h    Running setup.py install for investpy ... \u001b[?25ldone\n",
      "\u001b[?25hSuccessfully installed Unidecode-1.3.2 investpy-1.0.8 lxml-4.7.1\n"
     ]
    }
   ],
   "source": [
    "!pip3 install investpy"
   ]
  },
  {
   "cell_type": "code",
   "execution_count": 5,
   "id": "b7a9b00b",
   "metadata": {},
   "outputs": [
    {
     "name": "stdout",
     "output_type": "stream",
     "text": [
      "Collecting beautifulsoup4\n",
      "  Downloading beautifulsoup4-4.10.0-py3-none-any.whl (97 kB)\n",
      "     |████████████████████████████████| 97 kB 3.5 MB/s             \n",
      "\u001b[?25hCollecting soupsieve>1.2\n",
      "  Downloading soupsieve-2.3.1-py3-none-any.whl (37 kB)\n",
      "Installing collected packages: soupsieve, beautifulsoup4\n",
      "Successfully installed beautifulsoup4-4.10.0 soupsieve-2.3.1\n"
     ]
    }
   ],
   "source": [
    "!pip3 install beautifulsoup4"
   ]
  },
  {
   "cell_type": "code",
   "execution_count": 8,
   "id": "6bccb33d",
   "metadata": {},
   "outputs": [
    {
     "name": "stdout",
     "output_type": "stream",
     "text": [
      "\u001b[31mERROR: Could not find a version that satisfies the requirement newspaper3 (from versions: none)\u001b[0m\n",
      "\u001b[31mERROR: No matching distribution found for newspaper3\u001b[0m\n"
     ]
    }
   ],
   "source": []
  },
  {
   "cell_type": "code",
   "execution_count": null,
   "id": "fa81e1c1",
   "metadata": {},
   "outputs": [],
   "source": []
  }
 ],
 "metadata": {
  "kernelspec": {
   "display_name": "Python 3 (ipykernel)",
   "language": "python",
   "name": "python3"
  },
  "language_info": {
   "codemirror_mode": {
    "name": "ipython",
    "version": 3
   },
   "file_extension": ".py",
   "mimetype": "text/x-python",
   "name": "python",
   "nbconvert_exporter": "python",
   "pygments_lexer": "ipython3",
   "version": "3.8.12"
  }
 },
 "nbformat": 4,
 "nbformat_minor": 5
}
