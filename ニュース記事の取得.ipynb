{
 "cells": [
  {
   "cell_type": "code",
   "execution_count": 1,
   "id": "opening-arnold",
   "metadata": {},
   "outputs": [
    {
     "name": "stdout",
     "output_type": "stream",
     "text": [
      "Collecting newspaper3k\n",
      "  Downloading newspaper3k-0.2.8-py3-none-any.whl (211 kB)\n",
      "     |████████████████████████████████| 211 kB 2.5 MB/s            \n",
      "\u001b[?25hCollecting jieba3k>=0.35.1\n",
      "  Downloading jieba3k-0.35.1.zip (7.4 MB)\n",
      "     |████████████████████████████████| 7.4 MB 19.8 MB/s            \n",
      "\u001b[?25h  Preparing metadata (setup.py) ... \u001b[?25ldone\n",
      "\u001b[?25hRequirement already satisfied: beautifulsoup4>=4.4.1 in /home/snowpool/anaconda3/lib/python3.8/site-packages (from newspaper3k) (4.9.3)\n",
      "Requirement already satisfied: lxml>=3.6.0 in /home/snowpool/anaconda3/lib/python3.8/site-packages (from newspaper3k) (4.6.2)\n",
      "Requirement already satisfied: PyYAML>=3.11 in /home/snowpool/anaconda3/lib/python3.8/site-packages (from newspaper3k) (5.4.1)\n",
      "Collecting tldextract>=2.0.1\n",
      "  Downloading tldextract-3.1.2-py2.py3-none-any.whl (87 kB)\n",
      "     |████████████████████████████████| 87 kB 834 kB/s             \n",
      "\u001b[?25hCollecting tinysegmenter==0.3\n",
      "  Downloading tinysegmenter-0.3.tar.gz (16 kB)\n",
      "  Preparing metadata (setup.py) ... \u001b[?25ldone\n",
      "\u001b[?25hCollecting cssselect>=0.9.2\n",
      "  Using cached cssselect-1.1.0-py2.py3-none-any.whl (16 kB)\n",
      "Requirement already satisfied: Pillow>=3.3.0 in /home/snowpool/anaconda3/lib/python3.8/site-packages (from newspaper3k) (8.1.0)\n",
      "Requirement already satisfied: nltk>=3.2.1 in /home/snowpool/anaconda3/lib/python3.8/site-packages (from newspaper3k) (3.5)\n",
      "Collecting feedparser>=5.2.1\n",
      "  Downloading feedparser-6.0.8-py3-none-any.whl (81 kB)\n",
      "     |████████████████████████████████| 81 kB 1.1 MB/s             \n",
      "\u001b[?25hCollecting feedfinder2>=0.0.4\n",
      "  Downloading feedfinder2-0.0.4.tar.gz (3.3 kB)\n",
      "  Preparing metadata (setup.py) ... \u001b[?25ldone\n",
      "\u001b[?25hRequirement already satisfied: python-dateutil>=2.5.3 in /home/snowpool/anaconda3/lib/python3.8/site-packages (from newspaper3k) (2.8.1)\n",
      "Requirement already satisfied: requests>=2.10.0 in /home/snowpool/anaconda3/lib/python3.8/site-packages (from newspaper3k) (2.22.0)\n",
      "Requirement already satisfied: soupsieve>1.2 in /home/snowpool/anaconda3/lib/python3.8/site-packages (from beautifulsoup4>=4.4.1->newspaper3k) (2.2)\n",
      "Requirement already satisfied: six in /home/snowpool/anaconda3/lib/python3.8/site-packages (from feedfinder2>=0.0.4->newspaper3k) (1.15.0)\n",
      "Collecting sgmllib3k\n",
      "  Using cached sgmllib3k-1.0.0.tar.gz (5.8 kB)\n",
      "  Preparing metadata (setup.py) ... \u001b[?25ldone\n",
      "\u001b[?25hRequirement already satisfied: click in /home/snowpool/anaconda3/lib/python3.8/site-packages (from nltk>=3.2.1->newspaper3k) (7.1.2)\n",
      "Requirement already satisfied: joblib in /home/snowpool/anaconda3/lib/python3.8/site-packages (from nltk>=3.2.1->newspaper3k) (1.0.1)\n",
      "Requirement already satisfied: regex in /home/snowpool/anaconda3/lib/python3.8/site-packages (from nltk>=3.2.1->newspaper3k) (2020.11.13)\n",
      "Requirement already satisfied: tqdm in /home/snowpool/anaconda3/lib/python3.8/site-packages (from nltk>=3.2.1->newspaper3k) (4.56.0)\n",
      "Requirement already satisfied: idna<2.9,>=2.5 in /home/snowpool/anaconda3/lib/python3.8/site-packages (from requests>=2.10.0->newspaper3k) (2.8)\n",
      "Requirement already satisfied: urllib3!=1.25.0,!=1.25.1,<1.26,>=1.21.1 in /home/snowpool/anaconda3/lib/python3.8/site-packages (from requests>=2.10.0->newspaper3k) (1.25.11)\n",
      "Requirement already satisfied: chardet<3.1.0,>=3.0.2 in /home/snowpool/anaconda3/lib/python3.8/site-packages (from requests>=2.10.0->newspaper3k) (3.0.4)\n",
      "Requirement already satisfied: certifi>=2017.4.17 in /home/snowpool/anaconda3/lib/python3.8/site-packages (from requests>=2.10.0->newspaper3k) (2020.12.5)\n",
      "Requirement already satisfied: filelock>=3.0.8 in /home/snowpool/anaconda3/lib/python3.8/site-packages (from tldextract>=2.0.1->newspaper3k) (3.0.12)\n",
      "Collecting requests-file>=1.4\n",
      "  Downloading requests_file-1.5.1-py2.py3-none-any.whl (3.7 kB)\n",
      "Building wheels for collected packages: tinysegmenter, feedfinder2, jieba3k, sgmllib3k\n",
      "  Building wheel for tinysegmenter (setup.py) ... \u001b[?25ldone\n",
      "\u001b[?25h  Created wheel for tinysegmenter: filename=tinysegmenter-0.3-py3-none-any.whl size=13537 sha256=9ca18cc272b3a801c1be8b14d83c666018702408df20d11573058494f99b39c5\n",
      "  Stored in directory: /home/snowpool/.cache/pip/wheels/99/74/83/8fac1c8d9c648cfabebbbffe97a889f6624817f3aa0bbe6c09\n",
      "  Building wheel for feedfinder2 (setup.py) ... \u001b[?25ldone\n",
      "\u001b[?25h  Created wheel for feedfinder2: filename=feedfinder2-0.0.4-py3-none-any.whl size=3354 sha256=1c85166f78aaeec5c2c1f7d49aa4850d9b358bd99090bc014582de32a8b4db79\n",
      "  Stored in directory: /home/snowpool/.cache/pip/wheels/b6/09/68/a9f15498ac02c23dde29f18745bc6a6f574ba4ab41861a3575\n",
      "  Building wheel for jieba3k (setup.py) ... \u001b[?25ldone\n",
      "\u001b[?25h  Created wheel for jieba3k: filename=jieba3k-0.35.1-py3-none-any.whl size=7398406 sha256=1260867ca6114426111a76bee680d7b0b7b107ac83e323f982502da5045c9966\n",
      "  Stored in directory: /home/snowpool/.cache/pip/wheels/1f/7e/0c/54f3b0f5164278677899f2db08f2b07943ce2d024a3c862afb\n",
      "  Building wheel for sgmllib3k (setup.py) ... \u001b[?25ldone\n",
      "\u001b[?25h  Created wheel for sgmllib3k: filename=sgmllib3k-1.0.0-py3-none-any.whl size=6065 sha256=212d79699bf1e8d25698df1b63b0caad2b356dcde1d4095bc47ed1d654664b6a\n",
      "  Stored in directory: /home/snowpool/.cache/pip/wheels/83/63/2f/117884c3b19d46b64d3d61690333aa80c88dc14050e269c546\n",
      "Successfully built tinysegmenter feedfinder2 jieba3k sgmllib3k\n",
      "Installing collected packages: sgmllib3k, requests-file, tldextract, tinysegmenter, jieba3k, feedparser, feedfinder2, cssselect, newspaper3k\n",
      "Successfully installed cssselect-1.1.0 feedfinder2-0.0.4 feedparser-6.0.8 jieba3k-0.35.1 newspaper3k-0.2.8 requests-file-1.5.1 sgmllib3k-1.0.0 tinysegmenter-0.3 tldextract-3.1.2\n"
     ]
    }
   ],
   "source": [
    "!pip install newspaper3k"
   ]
  },
  {
   "cell_type": "code",
   "execution_count": 1,
   "id": "hindu-danish",
   "metadata": {},
   "outputs": [],
   "source": [
    "from newspaper import Article\n",
    "import nltk"
   ]
  },
  {
   "cell_type": "code",
   "execution_count": 2,
   "id": "positive-slope",
   "metadata": {},
   "outputs": [],
   "source": [
    "URL = \"https://www.reuters.com/business/finance/feds-powell-touts-benefits-maximum-employment-2021-11-09/\""
   ]
  },
  {
   "cell_type": "code",
   "execution_count": 3,
   "id": "young-turtle",
   "metadata": {},
   "outputs": [],
   "source": [
    "article = Article(URL)"
   ]
  },
  {
   "cell_type": "code",
   "execution_count": 4,
   "id": "quality-technique",
   "metadata": {},
   "outputs": [],
   "source": [
    "article.download()"
   ]
  },
  {
   "cell_type": "code",
   "execution_count": 5,
   "id": "sized-village",
   "metadata": {},
   "outputs": [],
   "source": [
    "article.parse()"
   ]
  },
  {
   "cell_type": "code",
   "execution_count": 6,
   "id": "square-rubber",
   "metadata": {},
   "outputs": [
    {
     "data": {
      "text/plain": [
       "datetime.datetime(2021, 11, 9, 0, 0)"
      ]
     },
     "execution_count": 6,
     "metadata": {},
     "output_type": "execute_result"
    }
   ],
   "source": [
    "article.publish_date"
   ]
  },
  {
   "cell_type": "code",
   "execution_count": 7,
   "id": "portable-pierre",
   "metadata": {},
   "outputs": [
    {
     "data": {
      "text/plain": [
       "[]"
      ]
     },
     "execution_count": 7,
     "metadata": {},
     "output_type": "execute_result"
    }
   ],
   "source": [
    "article.authors"
   ]
  },
  {
   "cell_type": "code",
   "execution_count": 8,
   "id": "portuguese-motor",
   "metadata": {},
   "outputs": [
    {
     "data": {
      "text/plain": [
       "'Federal Reserve Chairman Jerome Powell testifies during a Senate Banking, Housing and Urban Affairs Committee hearing on the CARES Act, at the Hart Senate Office Building in Washington, DC, U.S., September 28, 2021. Kevin Dietsch/Pool via REUTERS\\n\\nNov 9 (Reuters) - The U.S. Federal Reserve looks at a wide range of indicators in gauging how close the economy is to reaching full employment, Fed Chair Jerome Powell said on Tuesday, as he reiterated the benefits of targeting workers who often remain on the sidelines.\\n\\n\"When we assess whether we are at maximum employment, we purposely look at a wide range of indicators,\" Powell told a virtual conference on diversity and inclusion in economics, finance, and central banking, co-hosted by the Fed alongside other major central banks.\\n\\nIn doing so the Fed is attentive to labor market disparities, \"rather than just the headline numbers,\" Powell said as he noted an economy is healthier and stronger when as many people as possible are able to work.\\n\\nThe Fed will begin later this month to remove the first pillar of extraordinary stimulus it introduced in March 2020 to shield the economy from the COVID-19 pandemic, when starts to taper its massive bond buys.\\n\\nFed officials have pointed to strong economic growth and job gains as proof the economy can begin to stand on its own. But Powell last week also said the Fed would remain patient and prioritize further strides towards maximum employment before raising interest rates, despite jitters over higher-than-expected inflation. read more\\n\\nBut there is increasing debate among policymakers about how many more jobs the economy can add, and how much longer high inflation can be tolerated with investors currently expecting an increase in interest rate in the middle of next year. read more\\n\\nJob growth has averaged 582,000 per month this year but the labor force is down 3 million from its pre-pandemic level. read more\\n\\nAn announcement on whether U.S. President Joe Biden will renominate Powell to a second term as head of the central bank is expected soon. read more\\n\\nReporting by Lindsay Dunsmuir; Editing by Andrea Ricci\\n\\nOur Standards: The Thomson Reuters Trust Principles.'"
      ]
     },
     "execution_count": 8,
     "metadata": {},
     "output_type": "execute_result"
    }
   ],
   "source": [
    "article.text"
   ]
  },
  {
   "cell_type": "code",
   "execution_count": 9,
   "id": "clear-initial",
   "metadata": {},
   "outputs": [
    {
     "data": {
      "text/plain": [
       "\"Fed's Powell touts benefits of maximum employment\""
      ]
     },
     "execution_count": 9,
     "metadata": {},
     "output_type": "execute_result"
    }
   ],
   "source": [
    "article.title"
   ]
  },
  {
   "cell_type": "code",
   "execution_count": 10,
   "id": "strategic-match",
   "metadata": {},
   "outputs": [
    {
     "name": "stderr",
     "output_type": "stream",
     "text": [
      "[nltk_data] Downloading package punkt to /home/snowpool/nltk_data...\n",
      "[nltk_data]   Package punkt is already up-to-date!\n"
     ]
    },
    {
     "data": {
      "text/plain": [
       "True"
      ]
     },
     "execution_count": 10,
     "metadata": {},
     "output_type": "execute_result"
    }
   ],
   "source": [
    "nltk.download(\"punkt\")"
   ]
  },
  {
   "cell_type": "code",
   "execution_count": 11,
   "id": "widespread-gregory",
   "metadata": {},
   "outputs": [],
   "source": [
    "article.nlp()"
   ]
  },
  {
   "cell_type": "code",
   "execution_count": 12,
   "id": "relative-local",
   "metadata": {},
   "outputs": [
    {
     "data": {
      "text/plain": [
       "['employment',\n",
       " 'remain',\n",
       " 'maximum',\n",
       " 'benefits',\n",
       " 'powell',\n",
       " 'central',\n",
       " 'wide',\n",
       " 'read',\n",
       " 'economy',\n",
       " 'feds',\n",
       " 'touts',\n",
       " 'senate',\n",
       " 'reserve',\n",
       " 'fed']"
      ]
     },
     "execution_count": 12,
     "metadata": {},
     "output_type": "execute_result"
    }
   ],
   "source": [
    "article.keywords"
   ]
  },
  {
   "cell_type": "code",
   "execution_count": 13,
   "id": "adopted-singapore",
   "metadata": {},
   "outputs": [
    {
     "data": {
      "text/plain": [
       "'Federal Reserve Chairman Jerome Powell testifies during a Senate Banking, Housing and Urban Affairs Committee hearing on the CARES Act, at the Hart Senate Office Building in Washington, DC, U.S., September 28, 2021.\\nFed officials have pointed to strong economic growth and job gains as proof the economy can begin to stand on its own.\\nBut Powell last week also said the Fed would remain patient and prioritize further strides towards maximum employment before raising interest rates, despite jitters over higher-than-expected inflation.\\nread moreJob growth has averaged 582,000 per month this year but the labor force is down 3 million from its pre-pandemic level.\\nread moreAn announcement on whether U.S. President Joe Biden will renominate Powell to a second term as head of the central bank is expected soon.'"
      ]
     },
     "execution_count": 13,
     "metadata": {},
     "output_type": "execute_result"
    }
   ],
   "source": [
    "article.summary"
   ]
  },
  {
   "cell_type": "code",
   "execution_count": 14,
   "id": "hawaiian-third",
   "metadata": {},
   "outputs": [
    {
     "data": {
      "text/plain": [
       "'Federal Reserve Chairman Jerome Powell testifies during a Senate Banking, Housing and Urban Affairs Committee hearing on the CARES Act, at the Hart Senate Office Building in Washington, DC, U.S., September 28, 2021.Fed officials have pointed to strong economic growth and job gains as proof the economy can begin to stand on its own.But Powell last week also said the Fed would remain patient and prioritize further strides towards maximum employment before raising interest rates, despite jitters over higher-than-expected inflation.read moreJob growth has averaged 582,000 per month this year but the labor force is down 3 million from its pre-pandemic level.read moreAn announcement on whether U.S. President Joe Biden will renominate Powell to a second term as head of the central bank is expected soon.'"
      ]
     },
     "execution_count": 14,
     "metadata": {},
     "output_type": "execute_result"
    }
   ],
   "source": [
    "article.summary.replace(\"\\n\",\"\")"
   ]
  },
  {
   "cell_type": "code",
   "execution_count": 15,
   "id": "considered-astrology",
   "metadata": {},
   "outputs": [
    {
     "name": "stdout",
     "output_type": "stream",
     "text": [
      "Requirement already satisfied: tinysegmenter in /home/snowpool/anaconda3/lib/python3.8/site-packages (0.3)\r\n"
     ]
    }
   ],
   "source": [
    "!pip install tinysegmenter"
   ]
  },
  {
   "cell_type": "code",
   "execution_count": 16,
   "id": "hungry-attachment",
   "metadata": {},
   "outputs": [],
   "source": [
    "import newspaper"
   ]
  },
  {
   "cell_type": "code",
   "execution_count": 17,
   "id": "gross-charles",
   "metadata": {},
   "outputs": [],
   "source": [
    "url = \"https://www.bloomberg.co.jp/\""
   ]
  },
  {
   "cell_type": "code",
   "execution_count": 18,
   "id": "motivated-factory",
   "metadata": {},
   "outputs": [],
   "source": [
    "website = newspaper.build(url)"
   ]
  },
  {
   "cell_type": "code",
   "execution_count": 25,
   "id": "alone-conservation",
   "metadata": {},
   "outputs": [
    {
     "name": "stdout",
     "output_type": "stream",
     "text": [
      "記事 0 : 米インフレ率、複合的要因が押し上げ－予想外れエコノミストは悔し涙\n",
      "https://www.bloomberg.co.jp/news/articles/2021-11-12/R2FJQXT0AFB401?srnd=cojp-v2\n",
      "米インフレ予測を巡り、エコノミストは謙虚にならざるを得ない理由を多数突き付けられた。新型コロナウイルス感染再拡大や世界的なサプライチェーン制約、景気刺激策に支えられた個人消費などの要因が重なり、ウォール街や当局者の予想を大幅に上回る水準に物価上昇率を押し上げたためだ。米労働省が10日発表した10月の消費者物価指数（ＣＰＩ）は前年同月比6.2％上昇と、全予想を上回る大幅な伸びとなった。以前の物価上昇は総じて新型コロナ禍緩和後の経済活動再開に関連する分野に限定されてきたが、10月の統計は物価圧力の広がりを示唆している。ワシントンの米労働省 Photographer: Erin Scott/Bloombergドイツ銀行の米国担当チーフエコノミスト、マシュー・ルゼティ氏はインフレ予測について、過去１年間は「信じられないほど難しかった」とし、今後も困難な状況が続くとの見通しを表明。「インフレ見通しに引き続き上振れリスクがある状況で、物価圧力を十分組み入れていると考えるのには無理がある」と語った。Waking Up to Inflation Year-end U.S. consumer price estimates have been consistently revised up Source: Bloomberg Monthly Surveyエコノミストは年初以来、ＣＰＩ上昇率見通しの上方修正を余儀なくされてきた。当初は新型コロナ禍の影響が大きかった前年との比較のベース効果で、物価上振れのゆがみが生じていると想定されていたものが、もっと持続的な問題であることが鮮明になってきたためだ。パウエル連邦準備制度理事会（ＦＲＢ）議長をはじめとする金融当局者の多くは今年、物価圧力は一過性のものであることが判明するだろうとの見方を重ねて示してきた。パウエル氏は先週、高インフレが何カ月か続くとしても労働市場が一層改善するまで利上げの検討に入らないと語った。一方で、サマーズ元財務長官やダドリー前ニューヨーク連銀総裁を含む一部の著名エコノミストは過去１年近くにわたり、一段と高水準で持続的なインフレについて警告してきた。誤算エコノミストの間では、米政府が経済対策の一環として実施した個人給付の結果、可処分所得が膨らむとともに、ワクチン接種も進展することで旅行や外食、娯楽などサービスに支出の多くが振り向けられる一方、モノへの支出は相対的に抑えられ、サプライチェーンへの負荷が多少緩和されるとの見方が多かった。しかし、デルタ変異株の流行は累積需要の多くの部分をモノの支出に傾斜させ、特にアジアを中心にサプライチェーンにさらなる負荷がかかることになったと、ムーディーズ・アナリティクスの金融政策調査責任者、ライアン・スイート氏は指摘する。ドイツ銀のルゼティ氏も「2021年について予想されていたテーマはモノからサービスへの個人消費の大転換で、それはある程度実現したものの、モノへの支出は予測を上回っている」と話した。Source: Bloomberg事態を複雑にしているのは新型コロナ禍が雇用情勢にもたらした影響だ。エコノミストの多くは労働市場のスラック（たるみ）がインフレ懸念の緩和につながると想定していた。ところが、労働参加率の伸び悩みで求人は過去最高水準近くに押し上げられて、賃金は記録的な上昇となった。大企業は労働コストの上昇分を相殺するための値上げに踏み切っている。このほか、エネルギー価格の上昇もインフレ加速の一因で、ガソリン価格の高騰に連動し、米国民のインフレ期待も上方にシフトしている。原題： Why Economists Underestimated U.S. Inflation’s Pace, Persistence（抜粋）\n",
      "\n",
      "記事 1 : 米消費者マインドは予想外の低下、10年ぶり低水準－インフレ懸念\n",
      "https://www.bloomberg.co.jp/news/articles/2021-11-12/R2GSEGT0AFB901?srnd=cojp-v2\n",
      "11月の米ミシガン大学消費者マインド指数（速報値）は予想に反して低下し、10年ぶり低水準となった。物価上昇や、インフレが家計に与える影響についての懸念が消費者の間で高まっていることが示唆された。キーポイント ミシガン大消費者マインド指数（速報値）は66.8 10月確定値の71.7から低下 ブルームバーグがまとめたエコノミスト予想は72.5ミシガン大消費者マインド指数（上段）、家計の金融に対する期待指数（下段） 出所：ミシガン大学ミシガン大消費者調査ディレクター、リチャード・カーティン氏は11月の信頼感低下について、「一段のインフレ率上昇に加え、物価高騰によるダメージを軽減するための効果的な政策がまだ確立されていないとの見方が消費者の間で強まっていること」が反映されたと発表文で指摘した。１年先のインフレ期待は4.9％と、2008年以来の高水準となった。５－10年先のインフレ期待は2.9％と前月から変わらず。カーティン氏は「消費者の４人に１人がインフレによる生活水準の低下に言及し、低所得者と高齢者が最も影響を受けた」と記した。賃金は上昇しているが、食料品やガソリン、住宅などのコスト高騰で消費者の購買力は低下。インフレ調整後の所得が来年減るとみている世帯は、全体の約半数に上った。米ＣＰＩ、ピークはまだ先か－家計や金融・財政当局の頭痛の種に11月は家庭用品の購買意欲を示す指数が大幅に悪化し、統計を始めた1978年以来で２番目の低さとなる78となった。現況指数は73.2と2011年以来の低水準。期待指数は62.8と、13年以降で最も低い数字となった。統計の詳細は表をご覧ください。原題： U.S. Consumer Sentiment Drops to 10-Year Low on Inflation Fears、Preliminary Nov. Michigan Sentiment Fell to 66.8; Est.\n",
      "\n",
      "記事 2 : 新生銀社長、ＳＢＩでは提携シナジー限定的と改めてＴＯＢに反対示す\n",
      "https://www.bloomberg.co.jp/news/articles/2021-11-12/R2E0QST1UM0W01?srnd=cojp-v2\n",
      "新生銀行の工藤英之社長は12日、 ＳＢＩホールディングスによる株式公開買い付け（ＴＯＢ）に関連し、ＳＢＩは提携先候補としてシナジー効果が限定的であるなどとして、他の業種や海外企業との提携関係を模索していく方針を表明。ＴＯＢに改めて反対する姿勢を示した。工藤社長はオンラインによる決算会見で、「金融サービス・商品を提供して収益が上がる以上、新しい顧客に到達できないとシナジーはない」と述べ、ＳＢＩと事業が重複していることから効果が限定的になるとの見解を明らかにした。新生銀行 Photographer: Toru Hanai/Bloomberg工藤社長はＳＢＩが主張するシナジー効果について、「それほど出ることはあり得ない」と強調。提携先候補としては異業種や海外企業を考えていると述べた。ＳＢＩは株式保有比率を約20％から48％に引き上げ、過半を取得せずに連結子会社とする方針。新生銀はＴＯＢに反対を表明しており、25日には買収防衛策として新株予約権を無償で割り当てることの是非を諮る臨時株主総会を開く予定だ。こうした中、 預金保険機構は５日、臨時総会を前に防衛策や新生銀とＳＢＩの提携によるシナジーを検討するための 質問書を両社に送付していた。預保は子会社の整理回収機構と合わせて新生銀株の約２割を保有する。ＳＢＩは12日、預保への回答として、新生銀の防衛策発動が可決された場合にはＴＯＢを撤回すると 発表。一方、新生銀はＳＢＩから説得力のある説明が得られない場合は「他の株主候補との資本・業務提携などを追求することが、株式価値の向上に資する」との見解を示した。鈴木俊一財務相は同日の閣議後会見で、株主総会での預保と回収機構の議決権行使について「適切に検討されるものと思う」と言及。政府としては「両機構の考えを踏まえて対応を検討していきたい」と述べた。\n",
      "\n",
      "記事 3 : 米自発的離職者、９月に過去最高を記録－人材確保さらに困難に\n",
      "https://www.bloomberg.co.jp/news/articles/2021-11-12/R2GSIOT0G1KW01?srnd=cojp-v2\n",
      "米労働省雇用動態調査（ＪＯＬＴＳ）によれば、９月の自発的離職者数は過去最高を記録した。求人件数も過去最高付近にある中で、雇用主の人材確保がいかに困難になっているかが浮き彫りにされた。キーポイント 自発的離職者数440万人、過去最高 離職率は３％に上昇、統計開始の2000年以来の最高米求人件数は1040万件に減少 ブルームバーグがまとめたエコノミスト予想の中央値は1030万件 前月は1060万件に上方修正記録的な賃上げやさまざまな厚遇にもかかわらず、離職者の増加に歯止めがかからない。雇用主にとっては人材確保がさらに困難となると同時に、報酬とインフレが押し上げられている。自発的離職者数（上段）と求人件数（下段） 出所：米労働統計局雇用された労働者の全体数は650万人でほぼ変わらず。ヘルスケアや社会サービスで大きく増えた。採用率は4.4％で変わらず。レイオフと解雇も140万人でほぼ変わらなかった。９月は失業者１人当たりの求人件数が1.4件だった。人材のミスマッチが長引いている一方で、労働者は将来の所得や雇用機会を依然楽観している。雇用者数、予想上回る53.1万人増に加速－失業率4.6％に低下 (2)ＪＯＬＴＳ９月分の詳細は、統計表をご覧ください。原題： A Record 4.4 Million Americans Quit Their Jobs in September（抜粋）\n",
      "\n",
      "記事 4 : 米中首脳会談、15日にバーチャル形式で開催－緊張緩和目指す\n",
      "https://www.bloomberg.co.jp/news/articles/2021-11-12/R2GY2QT1UM0Y01?srnd=cojp-v2\n",
      "バイデン米大統領と中国の習近平国家主席は、15日にバーチャル形式で会談する。米政権の高官が明らかにした。軍事衝突につながりかねない誤解が生じるのを防ぐことが目的だという。米中首脳会談は、台湾問題や米テクノロジー輸出の規制などを巡って両国関係が大きく揺らいでいる時期に行われることになる。ただバイデン政権はこれまで、米国として具体的な成果を求める考えはないと一貫して強調し、同会談の成果に対する期待を抑えようとしている。バイデン、習両氏は今年に入り２回電話会談を行っているが、正式な米中首脳会談として行われるのは今回が初めて。原題： Biden, Xi to Talk Monday in Bid to Ease Tension Between Rivals（抜粋）\n",
      "\n",
      "記事 5 : 米Ｊ＆Ｊが２社に分割へ、コンシューマー部門と医薬品に\n",
      "https://www.bloomberg.co.jp/news/articles/2021-11-12/R2GJIOT1UM0Z01?srnd=cojp-v2\n",
      "米ジョンソン・エンド・ジョンソン（ Ｊ＆Ｊ）は12日、医薬品・医療機器事業とコンシューマー製品事業の２つに同社を分割する計画を発表した。収益性の高い製薬市場に注力する業界の流れに追随した。Ｊ＆Ｊの発表資料によれば、今後１年半から２年をかけてコンシューマー部門を切り離す。Ｊ＆Ｊの株価はニューヨーク時間午前10時31分現在、1.4％高となっている。アレックス・ゴースキー最高経営責任者（ＣＥＯ）はブルームバーグテレビジョンとのインタビューで、「当社にとって歴史的な日だが、何年も前から検討してきたことだ」と語り、「新型コロナウイルスによって、パーソナルケアに対する人々の考え方は根本的に変化した」と説明した。医薬品部門は昨年の売上高のうち55％を占めた。医療機器部門は28％、コンシューマー製品部門は17％だった。複合大手の米ゼネラル・エレクトリック（ＧＥ）も先日、分社化を発表した。かつて複数の事業を手広く展開し世界のビジネスを席巻したコングロマリットは相次いで、より小規模な事業体に分割している。そうすることで急速に変化する景気トレンドや消費者の好みに迅速対応できると、企業幹部らは指摘する。Ｊ＆Ｊのコンシューマー部門は、全社の売り上げに占める比率は小さいが、市販の鎮痛剤からばんそうこうの「バンドエイド」に至るまで、製品の知名度は群を抜いている。ゴースキーＣＥＯは投資家との電話会見で、「パーソナルヘルスやウェルネスは注目を集めており、コンシューマー製品を革新する必要性は高まっている」と述べた。ニュージャージー州にあるジョンソン・エンド・ジョンソン本社 Photographer: Mark Kauzlarich/Bloomberg原題： Health-Care Giant J&J to Split Into Drug and Consumer Companies（抜粋）\n",
      "\n",
      "記事 6 : ＥＶリビアン、独立したバッテリー工場など多くのプロジェクトに動く\n",
      "https://www.bloomberg.co.jp/news/articles/2021-11-12/R2GOCXT0G1KW01?srnd=cojp-v2\n",
      "約119億ドル（約１兆3600億円）規模の新規株式公開（ＩＰＯ）を実施したばかりの電気自動車（ＥＶ）メーカー、米 リビアン・オートモーティブが、数多くの事業拡大プロジェクトに投資している。既に計画している組み立て工場２カ所の新設に加え、独立したバッテリー工場の用地取得に向けても動いている。ＥＶメーカーのリビアンが今年最大のＩＰＯ、119億ドル規模 (1)そうした投資計画には、米史上６番目の大きさとなったＩＰＯで調達した資金も充当される。リビアンの 株価は上場２日目となる11日に22％上昇。時価総額は1000億ドルを超え、ゼネラル・モーターズ（ＧＭ）を上回った。リビアンのピックアップトラック「Ｒ１Ｔ」（ニューヨークのタイムズスクエアにて、11月10日） Source: Bloomberg事情に詳しい複数の関係者によれば、投資の最優先事項は米国内２カ所目となるＥＶ生産工場で、次いで欧州の工場。欧州工場では2023年末までに自動車生産が開始される見通しという。英国で用地が検討されているほか、欧州大陸でも複数の場所が候補に上がっている。関係者らは情報が非公開だとして匿名を条件に語った。欧州工場にかかる費用は数十億ドルに上る見通しだという。バッテリー工場についてはアリゾナ、ミシガン、テキサス州などが検討されていると、関係者の一部は語った。リビアンは現在、ピックアップトラック「Ｒ１Ｔ」を生産するイリノイ州ノーマルの組み立て工場で、 サムスンＳＤＩのセルを利用してバッテリーパックを製造している。関係者らによれば、いずれの建設予定地に関しても最終決定はなされていない。米国内２カ所目のＥＶ生産工場については、ここ数週間に新たに複数の建設候補地が浮上していると、関係者の一部は述べた。原題： Rivian Adds Stand-Alone Battery Plant to Post-IPO To-Do List (1)（抜粋）\n",
      "\n",
      "記事 7 : マスク氏、テスラ株を追加売却－今週に入り57億ドル相当手放す\n",
      "https://www.bloomberg.co.jp/news/articles/2021-11-12/R2GKFLT0G1KZ01?srnd=cojp-v2\n",
      "米電気自動車（ＥＶ）メーカー、テスラのイーロン・マスク最高経営責任者（ＣＥＯ）は７億ドル（約800億円）相当に近い同社株を追加で売却した。テスラのイーロン・マスクＣＥＯ（2021年７月） Photographer: Samuel Corum/Bloomberg監督当局への届け出によれば、マスク氏は11日に63万9737株（約６億8700万ドル相当）を手放した。今週に入って同氏が売却したテスラ株は57億ドル相当に上る。一部は９月に用意した取引プランに基づき売却された。マスク氏、テスラ株を5700億円相当売却－ツイッター投票後 (3)原題： Musk Sells More Tesla Stock, Bringing Total to $5.7 Billion (1)（抜粋）\n",
      "\n",
      "記事 8 : 加速するユーロ圏インフレ、各国間格差は債務危機以来の広がり\n",
      "https://www.bloomberg.co.jp/news/articles/2021-11-12/R2GDV2T0AFB401?srnd=cojp-v2\n",
      "ユーロ圏全域でインフレが急加速しているが、その上昇ペースは各国間で差が大きく開きつつある。新型コロナウイルス禍で欧州中央銀行（ＥＣＢ）が続ける景気支援策を一段と複雑にしている。エネルギーコストが上昇しているエストニアの場合、今年のインフレ率は４％と予測されている。一方でエネルギーの価格規制が敷かれているギリシャでは、インフレ率予想はわずか0.1％だ。各国間の差異は以前からあるものの、これほどの開きは域内のソブリン債危機以来だ。金融政策への画一的アプローチの弱点を浮き彫りにしている。特にインフレを嫌うドイツの不満は大きい。サプライチェーン問題で同国の製造業は打撃を受け、インフレ率は約30年ぶりの高水準となっている。ヘラバのチーフエコノミスト、ガートルード・トラウド氏は「ＥＣＢへの圧力は高まっている」と述べ、現在の物価上昇に伴う問題は「この状況が短期的なのか、長期的なのかを読めずにいることだ」と指摘した。ラガルドＥＣＢ総裁は、足元のインフレ高進によって来年利上げを迫られることはないと「確信」しており、サプライチェーン問題が解消されればインフレも落ち着くとの見通しを示している。ただインフレ加速は既に当初の想定以上に長期化している。欧州委員会によれば来年のインフレ率は2.2％と、目標を上回る見通しだ。ＥＣＢの政策委員会メンバー、オーストリア中央銀行の ホルツマン総裁は今週、「インフレが後退することはあり得るが、（物価目標の２％）より高い時期が長期にわたる可能性も排除できない」と発言している。Euro-Area Price Watch Inflation rates across region last diverged this much during debt crisis Source: Eurostat, European Commission原題： Euro-Area Inflation Is Diverging the Most Since the Debt Crisis（抜粋）\n",
      "\n",
      "記事 9 : ビットコインは「ばかげた」支払い手段－ＪＣフラワーズ創業者\n",
      "https://www.bloomberg.co.jp/news/articles/2021-11-12/R2GWO5T0G1KX01?srnd=cojp-v2\n",
      "米プライベートエクイティ（未公開株、ＰＥ）業界で最も著名な投資家の一人が、時価総額最大の暗号資産（仮想通貨）ビットコインについて、支払いに適した選択肢にはならないとの考えを示した。ＰＥ投資会社ＪＣフラワーズの創業者クリストファー・フラワーズ氏は、ベルリンで開かれた「スーパーリターン」会議の最終日となる12日、「ビットコインを支払いにおける本格的な代替手段として捉えるのは極めてばかげている」と指摘。「あまりに遅く、高過ぎだ」と述べた。ビットコインは今週に入り過去最高値を更新し、初めて６万9000ドル付近で推移した。物価上昇のデータを受け、ビットコインがインフレヘッジになるとの見方が広がったためだ。ビットコインの推移 出典：ブルームバーグだがフラワーズ氏は、ビットコインがインフレヘッジになるとの考えについても批判的な見方を示した。同氏はビットコインについて、「金との相関関係は実質的にゼロ」だとしたほか、仮想通貨の投資家にとってインフレは最重要事項ではないと述べた。原題： Bitcoin Is ‘Laughable’ Payment Option, J.C.\n",
      "Flowers Boss Says（抜粋）\n",
      "\n"
     ]
    },
    {
     "name": "stdout",
     "output_type": "stream",
     "text": [
      "記事 10 : 東芝、２社を分離し23年度に新規上場－1000億円程度を株主還元\n",
      "https://www.bloomberg.co.jp/news/articles/2021-11-12/R2EEICT1UM0X01?srnd=cojp-v2\n",
      "東芝は12日、インフラサービス事業とデバイス事業の２社をそれぞれ新規上場会社としてスピンオフ（分離）するほか、半導体メモリー大手の キオクシアホールディングスの株式管理などを担う東芝本体と合わせて３社体制にする再編計画を発表した。専門性のある経営体制を構築し各事業で競争力を高める。発表資料によると、2023年度下期（10－３月期）に上場を目指す。インフラ会社には原子力や火力、公共インフラなどが、デバイス会社にはハードディスクドライブ（ＨＤＤ）やパワー半導体などが集約される。東芝本体ではキオクシアホールディングスと上場子会社の 東芝テックの株式を保有する。キオクシア株については、速やかに現金化し全額株主還元に充当するほか、今後２年間で1000億円程度の株主還元を実施する計画だ。綱川智社長は12日の会見で、キオクシア株売却後の株主還元については以前は「過半」と言っていたが、「全額を返しても適正資本を維持できる」と判断したと説明した。またキオクシアの新規株式公開（ＩＰＯ）に関する方針は変わらないとして、米投資ファンド、ベイン・キャピタルの判断に従って早期の還元に動く考えを示した。東芝はエネルギーから半導体まで多様な事業を抱えており、複合企業の価値が相対的に低く評価される「コングロマリット・ディスカウント」の解消が課題となっていた。1989年に１万5000円を付けた株価も、足元では4000円台後半の水準で低迷。不正会計や米原発事業での巨額損失を受けて、一部の事業を売却した。東芝のロゴ（都内、21年４月） Photographer: Kiyoshi Ota/Bloomberg綱川氏は、今回の再編はそれぞれの事業が新しい企業風土の下で成長していくチャンスで、東芝の「解体ではなく進化ととらえている」と述べた。ただ現状では「ガバナンスをどうにかしていくことは最重要の経営課題」だとの認識も示した。東芝、車谷氏ら３名の法的責任は問えず－ガバナンス強化委報告 (1)インフラサービス会社では、温室効果ガス排出量の実質ゼロ（カーボンニュートラル）実現に向けた電力会社などへの解決策提供などで、国内トップクラスの地位確立を目指すほか、アジアを中心に市場シェアの拡大を狙う。自動化によるインフラ運営のコスト削減につながる技術の提供にも注力する。また、23年度までに水素実証プロジェクトなどカーボンニュートラル対応や二次電池の増産などで2160億円の設備投資を実施するほか、サイバーセキュリティー技術やＩｏＴデータ基盤の整備などの研究開発に2320億円を投じる。デバイス会社では設備投資に1880億円、研究開発に1530億円と計3410億円を投じる。注力領域に据えるパワー半導体の売上高を23年度に1200億円まで年平均13％成長させることを目指す。オンラインとオフラインの中間に位置する「ニアラインＨＤＤ」の分野では、大容量製品の開発を加速させることで、ニアラインＨＤＤの売上高を23年度に2800億円まで年平均18％増やしたい考えだ。\n",
      "\n"
     ]
    }
   ],
   "source": [
    "i = 0\n",
    "for article  in website.articles:\n",
    "    csvlist = []\n",
    "    article.download()\n",
    "    article.parse()\n",
    "    article.nlp()\n",
    "    print(\"記事\",str(i),\":\",article.title)\n",
    "    print(article.url)\n",
    "    print(article.summary, end=\"\\n\\n\")\n",
    "    \n",
    "    \n",
    "    if i > 9:\n",
    "        break\n",
    "    i = i+1\n",
    "    "
   ]
  },
  {
   "cell_type": "code",
   "execution_count": 20,
   "id": "electronic-correlation",
   "metadata": {},
   "outputs": [],
   "source": [
    "import csv\n",
    "import datetime"
   ]
  },
  {
   "cell_type": "code",
   "execution_count": 21,
   "id": "forty-burner",
   "metadata": {},
   "outputs": [],
   "source": [
    "csv_date = datetime.datetime.today().strftime(\"%Y%m%d\")"
   ]
  },
  {
   "cell_type": "code",
   "execution_count": 22,
   "id": "southern-matthew",
   "metadata": {},
   "outputs": [],
   "source": [
    "csv_file_name = \"bloomberg_\" + csv_date +\".csv\""
   ]
  },
  {
   "cell_type": "code",
   "execution_count": 23,
   "id": "silver-charity",
   "metadata": {},
   "outputs": [],
   "source": [
    "f = open(csv_file_name,\"w\",encoding=\"utf-8\",errors=\"ignore\")"
   ]
  },
  {
   "cell_type": "code",
   "execution_count": 24,
   "id": "imperial-powder",
   "metadata": {},
   "outputs": [
    {
     "data": {
      "text/plain": [
       "19"
      ]
     },
     "execution_count": 24,
     "metadata": {},
     "output_type": "execute_result"
    }
   ],
   "source": [
    "writer = csv.writer(f,lineterminator=\"\\n\")\n",
    "csv_header = [\"記事番号\",\"タイトル\",\"URL\",\"サマリー\"]\n",
    "writer.writerow(csv_header)"
   ]
  },
  {
   "cell_type": "code",
   "execution_count": 26,
   "id": "cognitive-florist",
   "metadata": {},
   "outputs": [
    {
     "name": "stdout",
     "output_type": "stream",
     "text": [
      "記事 0 : 米インフレ率、複合的要因が押し上げ－予想外れエコノミストは悔し涙\n",
      "https://www.bloomberg.co.jp/news/articles/2021-11-12/R2FJQXT0AFB401?srnd=cojp-v2\n",
      "米インフレ予測を巡り、エコノミストは謙虚にならざるを得ない理由を多数突き付けられた。新型コロナウイルス感染再拡大や世界的なサプライチェーン制約、景気刺激策に支えられた個人消費などの要因が重なり、ウォール街や当局者の予想を大幅に上回る水準に物価上昇率を押し上げたためだ。米労働省が10日発表した10月の消費者物価指数（ＣＰＩ）は前年同月比6.2％上昇と、全予想を上回る大幅な伸びとなった。以前の物価上昇は総じて新型コロナ禍緩和後の経済活動再開に関連する分野に限定されてきたが、10月の統計は物価圧力の広がりを示唆している。ワシントンの米労働省 Photographer: Erin Scott/Bloombergドイツ銀行の米国担当チーフエコノミスト、マシュー・ルゼティ氏はインフレ予測について、過去１年間は「信じられないほど難しかった」とし、今後も困難な状況が続くとの見通しを表明。「インフレ見通しに引き続き上振れリスクがある状況で、物価圧力を十分組み入れていると考えるのには無理がある」と語った。Waking Up to Inflation Year-end U.S. consumer price estimates have been consistently revised up Source: Bloomberg Monthly Surveyエコノミストは年初以来、ＣＰＩ上昇率見通しの上方修正を余儀なくされてきた。当初は新型コロナ禍の影響が大きかった前年との比較のベース効果で、物価上振れのゆがみが生じていると想定されていたものが、もっと持続的な問題であることが鮮明になってきたためだ。パウエル連邦準備制度理事会（ＦＲＢ）議長をはじめとする金融当局者の多くは今年、物価圧力は一過性のものであることが判明するだろうとの見方を重ねて示してきた。パウエル氏は先週、高インフレが何カ月か続くとしても労働市場が一層改善するまで利上げの検討に入らないと語った。一方で、サマーズ元財務長官やダドリー前ニューヨーク連銀総裁を含む一部の著名エコノミストは過去１年近くにわたり、一段と高水準で持続的なインフレについて警告してきた。誤算エコノミストの間では、米政府が経済対策の一環として実施した個人給付の結果、可処分所得が膨らむとともに、ワクチン接種も進展することで旅行や外食、娯楽などサービスに支出の多くが振り向けられる一方、モノへの支出は相対的に抑えられ、サプライチェーンへの負荷が多少緩和されるとの見方が多かった。しかし、デルタ変異株の流行は累積需要の多くの部分をモノの支出に傾斜させ、特にアジアを中心にサプライチェーンにさらなる負荷がかかることになったと、ムーディーズ・アナリティクスの金融政策調査責任者、ライアン・スイート氏は指摘する。ドイツ銀のルゼティ氏も「2021年について予想されていたテーマはモノからサービスへの個人消費の大転換で、それはある程度実現したものの、モノへの支出は予測を上回っている」と話した。Source: Bloomberg事態を複雑にしているのは新型コロナ禍が雇用情勢にもたらした影響だ。エコノミストの多くは労働市場のスラック（たるみ）がインフレ懸念の緩和につながると想定していた。ところが、労働参加率の伸び悩みで求人は過去最高水準近くに押し上げられて、賃金は記録的な上昇となった。大企業は労働コストの上昇分を相殺するための値上げに踏み切っている。このほか、エネルギー価格の上昇もインフレ加速の一因で、ガソリン価格の高騰に連動し、米国民のインフレ期待も上方にシフトしている。原題： Why Economists Underestimated U.S. Inflation’s Pace, Persistence（抜粋）\n",
      "\n",
      "記事 1 : 米消費者マインドは予想外の低下、10年ぶり低水準－インフレ懸念\n",
      "https://www.bloomberg.co.jp/news/articles/2021-11-12/R2GSEGT0AFB901?srnd=cojp-v2\n",
      "11月の米ミシガン大学消費者マインド指数（速報値）は予想に反して低下し、10年ぶり低水準となった。物価上昇や、インフレが家計に与える影響についての懸念が消費者の間で高まっていることが示唆された。キーポイント ミシガン大消費者マインド指数（速報値）は66.8 10月確定値の71.7から低下 ブルームバーグがまとめたエコノミスト予想は72.5ミシガン大消費者マインド指数（上段）、家計の金融に対する期待指数（下段） 出所：ミシガン大学ミシガン大消費者調査ディレクター、リチャード・カーティン氏は11月の信頼感低下について、「一段のインフレ率上昇に加え、物価高騰によるダメージを軽減するための効果的な政策がまだ確立されていないとの見方が消費者の間で強まっていること」が反映されたと発表文で指摘した。１年先のインフレ期待は4.9％と、2008年以来の高水準となった。５－10年先のインフレ期待は2.9％と前月から変わらず。カーティン氏は「消費者の４人に１人がインフレによる生活水準の低下に言及し、低所得者と高齢者が最も影響を受けた」と記した。賃金は上昇しているが、食料品やガソリン、住宅などのコスト高騰で消費者の購買力は低下。インフレ調整後の所得が来年減るとみている世帯は、全体の約半数に上った。米ＣＰＩ、ピークはまだ先か－家計や金融・財政当局の頭痛の種に11月は家庭用品の購買意欲を示す指数が大幅に悪化し、統計を始めた1978年以来で２番目の低さとなる78となった。現況指数は73.2と2011年以来の低水準。期待指数は62.8と、13年以降で最も低い数字となった。統計の詳細は表をご覧ください。原題： U.S. Consumer Sentiment Drops to 10-Year Low on Inflation Fears、Preliminary Nov. Michigan Sentiment Fell to 66.8; Est.\n",
      "\n",
      "記事 2 : 新生銀社長、ＳＢＩでは提携シナジー限定的と改めてＴＯＢに反対示す\n",
      "https://www.bloomberg.co.jp/news/articles/2021-11-12/R2E0QST1UM0W01?srnd=cojp-v2\n",
      "新生銀行の工藤英之社長は12日、 ＳＢＩホールディングスによる株式公開買い付け（ＴＯＢ）に関連し、ＳＢＩは提携先候補としてシナジー効果が限定的であるなどとして、他の業種や海外企業との提携関係を模索していく方針を表明。ＴＯＢに改めて反対する姿勢を示した。工藤社長はオンラインによる決算会見で、「金融サービス・商品を提供して収益が上がる以上、新しい顧客に到達できないとシナジーはない」と述べ、ＳＢＩと事業が重複していることから効果が限定的になるとの見解を明らかにした。新生銀行 Photographer: Toru Hanai/Bloomberg工藤社長はＳＢＩが主張するシナジー効果について、「それほど出ることはあり得ない」と強調。提携先候補としては異業種や海外企業を考えていると述べた。ＳＢＩは株式保有比率を約20％から48％に引き上げ、過半を取得せずに連結子会社とする方針。新生銀はＴＯＢに反対を表明しており、25日には買収防衛策として新株予約権を無償で割り当てることの是非を諮る臨時株主総会を開く予定だ。こうした中、 預金保険機構は５日、臨時総会を前に防衛策や新生銀とＳＢＩの提携によるシナジーを検討するための 質問書を両社に送付していた。預保は子会社の整理回収機構と合わせて新生銀株の約２割を保有する。ＳＢＩは12日、預保への回答として、新生銀の防衛策発動が可決された場合にはＴＯＢを撤回すると 発表。一方、新生銀はＳＢＩから説得力のある説明が得られない場合は「他の株主候補との資本・業務提携などを追求することが、株式価値の向上に資する」との見解を示した。鈴木俊一財務相は同日の閣議後会見で、株主総会での預保と回収機構の議決権行使について「適切に検討されるものと思う」と言及。政府としては「両機構の考えを踏まえて対応を検討していきたい」と述べた。\n",
      "\n",
      "記事 3 : 米自発的離職者、９月に過去最高を記録－人材確保さらに困難に\n",
      "https://www.bloomberg.co.jp/news/articles/2021-11-12/R2GSIOT0G1KW01?srnd=cojp-v2\n",
      "米労働省雇用動態調査（ＪＯＬＴＳ）によれば、９月の自発的離職者数は過去最高を記録した。求人件数も過去最高付近にある中で、雇用主の人材確保がいかに困難になっているかが浮き彫りにされた。キーポイント 自発的離職者数440万人、過去最高 離職率は３％に上昇、統計開始の2000年以来の最高米求人件数は1040万件に減少 ブルームバーグがまとめたエコノミスト予想の中央値は1030万件 前月は1060万件に上方修正記録的な賃上げやさまざまな厚遇にもかかわらず、離職者の増加に歯止めがかからない。雇用主にとっては人材確保がさらに困難となると同時に、報酬とインフレが押し上げられている。自発的離職者数（上段）と求人件数（下段） 出所：米労働統計局雇用された労働者の全体数は650万人でほぼ変わらず。ヘルスケアや社会サービスで大きく増えた。採用率は4.4％で変わらず。レイオフと解雇も140万人でほぼ変わらなかった。９月は失業者１人当たりの求人件数が1.4件だった。人材のミスマッチが長引いている一方で、労働者は将来の所得や雇用機会を依然楽観している。雇用者数、予想上回る53.1万人増に加速－失業率4.6％に低下 (2)ＪＯＬＴＳ９月分の詳細は、統計表をご覧ください。原題： A Record 4.4 Million Americans Quit Their Jobs in September（抜粋）\n",
      "\n",
      "記事 4 : 米中首脳会談、15日にバーチャル形式で開催－緊張緩和目指す\n",
      "https://www.bloomberg.co.jp/news/articles/2021-11-12/R2GY2QT1UM0Y01?srnd=cojp-v2\n",
      "バイデン米大統領と中国の習近平国家主席は、15日にバーチャル形式で会談する。米政権の高官が明らかにした。軍事衝突につながりかねない誤解が生じるのを防ぐことが目的だという。米中首脳会談は、台湾問題や米テクノロジー輸出の規制などを巡って両国関係が大きく揺らいでいる時期に行われることになる。ただバイデン政権はこれまで、米国として具体的な成果を求める考えはないと一貫して強調し、同会談の成果に対する期待を抑えようとしている。バイデン、習両氏は今年に入り２回電話会談を行っているが、正式な米中首脳会談として行われるのは今回が初めて。原題： Biden, Xi to Talk Monday in Bid to Ease Tension Between Rivals（抜粋）\n",
      "\n",
      "記事 5 : 米Ｊ＆Ｊが２社に分割へ、コンシューマー部門と医薬品に\n",
      "https://www.bloomberg.co.jp/news/articles/2021-11-12/R2GJIOT1UM0Z01?srnd=cojp-v2\n",
      "米ジョンソン・エンド・ジョンソン（ Ｊ＆Ｊ）は12日、医薬品・医療機器事業とコンシューマー製品事業の２つに同社を分割する計画を発表した。収益性の高い製薬市場に注力する業界の流れに追随した。Ｊ＆Ｊの発表資料によれば、今後１年半から２年をかけてコンシューマー部門を切り離す。Ｊ＆Ｊの株価はニューヨーク時間午前10時31分現在、1.4％高となっている。アレックス・ゴースキー最高経営責任者（ＣＥＯ）はブルームバーグテレビジョンとのインタビューで、「当社にとって歴史的な日だが、何年も前から検討してきたことだ」と語り、「新型コロナウイルスによって、パーソナルケアに対する人々の考え方は根本的に変化した」と説明した。医薬品部門は昨年の売上高のうち55％を占めた。医療機器部門は28％、コンシューマー製品部門は17％だった。複合大手の米ゼネラル・エレクトリック（ＧＥ）も先日、分社化を発表した。かつて複数の事業を手広く展開し世界のビジネスを席巻したコングロマリットは相次いで、より小規模な事業体に分割している。そうすることで急速に変化する景気トレンドや消費者の好みに迅速対応できると、企業幹部らは指摘する。Ｊ＆Ｊのコンシューマー部門は、全社の売り上げに占める比率は小さいが、市販の鎮痛剤からばんそうこうの「バンドエイド」に至るまで、製品の知名度は群を抜いている。ゴースキーＣＥＯは投資家との電話会見で、「パーソナルヘルスやウェルネスは注目を集めており、コンシューマー製品を革新する必要性は高まっている」と述べた。ニュージャージー州にあるジョンソン・エンド・ジョンソン本社 Photographer: Mark Kauzlarich/Bloomberg原題： Health-Care Giant J&J to Split Into Drug and Consumer Companies（抜粋）\n",
      "\n",
      "記事 6 : ＥＶリビアン、独立したバッテリー工場など多くのプロジェクトに動く\n",
      "https://www.bloomberg.co.jp/news/articles/2021-11-12/R2GOCXT0G1KW01?srnd=cojp-v2\n",
      "約119億ドル（約１兆3600億円）規模の新規株式公開（ＩＰＯ）を実施したばかりの電気自動車（ＥＶ）メーカー、米 リビアン・オートモーティブが、数多くの事業拡大プロジェクトに投資している。既に計画している組み立て工場２カ所の新設に加え、独立したバッテリー工場の用地取得に向けても動いている。ＥＶメーカーのリビアンが今年最大のＩＰＯ、119億ドル規模 (1)そうした投資計画には、米史上６番目の大きさとなったＩＰＯで調達した資金も充当される。リビアンの 株価は上場２日目となる11日に22％上昇。時価総額は1000億ドルを超え、ゼネラル・モーターズ（ＧＭ）を上回った。リビアンのピックアップトラック「Ｒ１Ｔ」（ニューヨークのタイムズスクエアにて、11月10日） Source: Bloomberg事情に詳しい複数の関係者によれば、投資の最優先事項は米国内２カ所目となるＥＶ生産工場で、次いで欧州の工場。欧州工場では2023年末までに自動車生産が開始される見通しという。英国で用地が検討されているほか、欧州大陸でも複数の場所が候補に上がっている。関係者らは情報が非公開だとして匿名を条件に語った。欧州工場にかかる費用は数十億ドルに上る見通しだという。バッテリー工場についてはアリゾナ、ミシガン、テキサス州などが検討されていると、関係者の一部は語った。リビアンは現在、ピックアップトラック「Ｒ１Ｔ」を生産するイリノイ州ノーマルの組み立て工場で、 サムスンＳＤＩのセルを利用してバッテリーパックを製造している。関係者らによれば、いずれの建設予定地に関しても最終決定はなされていない。米国内２カ所目のＥＶ生産工場については、ここ数週間に新たに複数の建設候補地が浮上していると、関係者の一部は述べた。原題： Rivian Adds Stand-Alone Battery Plant to Post-IPO To-Do List (1)（抜粋）\n",
      "\n",
      "記事 7 : マスク氏、テスラ株を追加売却－今週に入り57億ドル相当手放す\n",
      "https://www.bloomberg.co.jp/news/articles/2021-11-12/R2GKFLT0G1KZ01?srnd=cojp-v2\n",
      "米電気自動車（ＥＶ）メーカー、テスラのイーロン・マスク最高経営責任者（ＣＥＯ）は７億ドル（約800億円）相当に近い同社株を追加で売却した。テスラのイーロン・マスクＣＥＯ（2021年７月） Photographer: Samuel Corum/Bloomberg監督当局への届け出によれば、マスク氏は11日に63万9737株（約６億8700万ドル相当）を手放した。今週に入って同氏が売却したテスラ株は57億ドル相当に上る。一部は９月に用意した取引プランに基づき売却された。マスク氏、テスラ株を5700億円相当売却－ツイッター投票後 (3)原題： Musk Sells More Tesla Stock, Bringing Total to $5.7 Billion (1)（抜粋）\n",
      "\n",
      "記事 8 : 加速するユーロ圏インフレ、各国間格差は債務危機以来の広がり\n",
      "https://www.bloomberg.co.jp/news/articles/2021-11-12/R2GDV2T0AFB401?srnd=cojp-v2\n",
      "ユーロ圏全域でインフレが急加速しているが、その上昇ペースは各国間で差が大きく開きつつある。新型コロナウイルス禍で欧州中央銀行（ＥＣＢ）が続ける景気支援策を一段と複雑にしている。エネルギーコストが上昇しているエストニアの場合、今年のインフレ率は４％と予測されている。一方でエネルギーの価格規制が敷かれているギリシャでは、インフレ率予想はわずか0.1％だ。各国間の差異は以前からあるものの、これほどの開きは域内のソブリン債危機以来だ。金融政策への画一的アプローチの弱点を浮き彫りにしている。特にインフレを嫌うドイツの不満は大きい。サプライチェーン問題で同国の製造業は打撃を受け、インフレ率は約30年ぶりの高水準となっている。ヘラバのチーフエコノミスト、ガートルード・トラウド氏は「ＥＣＢへの圧力は高まっている」と述べ、現在の物価上昇に伴う問題は「この状況が短期的なのか、長期的なのかを読めずにいることだ」と指摘した。ラガルドＥＣＢ総裁は、足元のインフレ高進によって来年利上げを迫られることはないと「確信」しており、サプライチェーン問題が解消されればインフレも落ち着くとの見通しを示している。ただインフレ加速は既に当初の想定以上に長期化している。欧州委員会によれば来年のインフレ率は2.2％と、目標を上回る見通しだ。ＥＣＢの政策委員会メンバー、オーストリア中央銀行の ホルツマン総裁は今週、「インフレが後退することはあり得るが、（物価目標の２％）より高い時期が長期にわたる可能性も排除できない」と発言している。Euro-Area Price Watch Inflation rates across region last diverged this much during debt crisis Source: Eurostat, European Commission原題： Euro-Area Inflation Is Diverging the Most Since the Debt Crisis（抜粋）\n",
      "\n",
      "記事 9 : ビットコインは「ばかげた」支払い手段－ＪＣフラワーズ創業者\n",
      "https://www.bloomberg.co.jp/news/articles/2021-11-12/R2GWO5T0G1KX01?srnd=cojp-v2\n",
      "米プライベートエクイティ（未公開株、ＰＥ）業界で最も著名な投資家の一人が、時価総額最大の暗号資産（仮想通貨）ビットコインについて、支払いに適した選択肢にはならないとの考えを示した。ＰＥ投資会社ＪＣフラワーズの創業者クリストファー・フラワーズ氏は、ベルリンで開かれた「スーパーリターン」会議の最終日となる12日、「ビットコインを支払いにおける本格的な代替手段として捉えるのは極めてばかげている」と指摘。「あまりに遅く、高過ぎだ」と述べた。ビットコインは今週に入り過去最高値を更新し、初めて６万9000ドル付近で推移した。物価上昇のデータを受け、ビットコインがインフレヘッジになるとの見方が広がったためだ。ビットコインの推移 出典：ブルームバーグだがフラワーズ氏は、ビットコインがインフレヘッジになるとの考えについても批判的な見方を示した。同氏はビットコインについて、「金との相関関係は実質的にゼロ」だとしたほか、仮想通貨の投資家にとってインフレは最重要事項ではないと述べた。原題： Bitcoin Is ‘Laughable’ Payment Option, J.C.\n",
      "Flowers Boss Says（抜粋）\n",
      "\n"
     ]
    },
    {
     "name": "stdout",
     "output_type": "stream",
     "text": [
      "記事 10 : 東芝、２社を分離し23年度に新規上場－1000億円程度を株主還元\n",
      "https://www.bloomberg.co.jp/news/articles/2021-11-12/R2EEICT1UM0X01?srnd=cojp-v2\n",
      "東芝は12日、インフラサービス事業とデバイス事業の２社をそれぞれ新規上場会社としてスピンオフ（分離）するほか、半導体メモリー大手の キオクシアホールディングスの株式管理などを担う東芝本体と合わせて３社体制にする再編計画を発表した。専門性のある経営体制を構築し各事業で競争力を高める。発表資料によると、2023年度下期（10－３月期）に上場を目指す。インフラ会社には原子力や火力、公共インフラなどが、デバイス会社にはハードディスクドライブ（ＨＤＤ）やパワー半導体などが集約される。東芝本体ではキオクシアホールディングスと上場子会社の 東芝テックの株式を保有する。キオクシア株については、速やかに現金化し全額株主還元に充当するほか、今後２年間で1000億円程度の株主還元を実施する計画だ。綱川智社長は12日の会見で、キオクシア株売却後の株主還元については以前は「過半」と言っていたが、「全額を返しても適正資本を維持できる」と判断したと説明した。またキオクシアの新規株式公開（ＩＰＯ）に関する方針は変わらないとして、米投資ファンド、ベイン・キャピタルの判断に従って早期の還元に動く考えを示した。東芝はエネルギーから半導体まで多様な事業を抱えており、複合企業の価値が相対的に低く評価される「コングロマリット・ディスカウント」の解消が課題となっていた。1989年に１万5000円を付けた株価も、足元では4000円台後半の水準で低迷。不正会計や米原発事業での巨額損失を受けて、一部の事業を売却した。東芝のロゴ（都内、21年４月） Photographer: Kiyoshi Ota/Bloomberg綱川氏は、今回の再編はそれぞれの事業が新しい企業風土の下で成長していくチャンスで、東芝の「解体ではなく進化ととらえている」と述べた。ただ現状では「ガバナンスをどうにかしていくことは最重要の経営課題」だとの認識も示した。東芝、車谷氏ら３名の法的責任は問えず－ガバナンス強化委報告 (1)インフラサービス会社では、温室効果ガス排出量の実質ゼロ（カーボンニュートラル）実現に向けた電力会社などへの解決策提供などで、国内トップクラスの地位確立を目指すほか、アジアを中心に市場シェアの拡大を狙う。自動化によるインフラ運営のコスト削減につながる技術の提供にも注力する。また、23年度までに水素実証プロジェクトなどカーボンニュートラル対応や二次電池の増産などで2160億円の設備投資を実施するほか、サイバーセキュリティー技術やＩｏＴデータ基盤の整備などの研究開発に2320億円を投じる。デバイス会社では設備投資に1880億円、研究開発に1530億円と計3410億円を投じる。注力領域に据えるパワー半導体の売上高を23年度に1200億円まで年平均13％成長させることを目指す。オンラインとオフラインの中間に位置する「ニアラインＨＤＤ」の分野では、大容量製品の開発を加速させることで、ニアラインＨＤＤの売上高を23年度に2800億円まで年平均18％増やしたい考えだ。\n",
      "\n"
     ]
    }
   ],
   "source": [
    "i = 0\n",
    "for article  in website.articles:\n",
    "    csvlist = []\n",
    "    article.download()\n",
    "    article.parse()\n",
    "    article.nlp()\n",
    "    print(\"記事\",str(i),\":\",article.title)\n",
    "    print(article.url)\n",
    "    print(article.summary, end=\"\\n\\n\")\n",
    "    \n",
    "    #csv 書き込み\n",
    "    csvlist.append(str(i))\n",
    "    csvlist.append(article.title)\n",
    "    csvlist.append(article.url)\n",
    "    csvlist.append(article.summary)\n",
    "    writer.writerow(csvlist)\n",
    "    \n",
    "    \n",
    "    if i > 9:\n",
    "        break\n",
    "    i = i+1\n",
    "    \n",
    "f.close()"
   ]
  },
  {
   "cell_type": "code",
   "execution_count": null,
   "id": "academic-donor",
   "metadata": {},
   "outputs": [],
   "source": []
  }
 ],
 "metadata": {
  "kernelspec": {
   "display_name": "Python 3",
   "language": "python",
   "name": "python3"
  },
  "language_info": {
   "codemirror_mode": {
    "name": "ipython",
    "version": 3
   },
   "file_extension": ".py",
   "mimetype": "text/x-python",
   "name": "python",
   "nbconvert_exporter": "python",
   "pygments_lexer": "ipython3",
   "version": "3.8.8"
  }
 },
 "nbformat": 4,
 "nbformat_minor": 5
}
